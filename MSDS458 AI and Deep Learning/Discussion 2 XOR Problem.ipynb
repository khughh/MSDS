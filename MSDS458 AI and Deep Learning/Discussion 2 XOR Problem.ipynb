{
 "cells": [
  {
   "cell_type": "code",
   "execution_count": 1,
   "id": "56071d83",
   "metadata": {},
   "outputs": [
    {
     "data": {
      "text/plain": [
       "1.0"
      ]
     },
     "execution_count": 1,
     "metadata": {},
     "output_type": "execute_result"
    }
   ],
   "source": [
    "#Solving XOR Problem with Scikit-learn\n",
    "\n",
    "#Import scikit learn library\n",
    "from sklearn.svm import SVC\n",
    "from sklearn.metrics import accuracy_score\n",
    "\n",
    "# Creating XOR data points\n",
    "X = [[0, 0], [1, 1], [1, 0], [0, 1]]\n",
    "y = [0, 0, 1, 1]  # Across 3 classes\n",
    "\n",
    "# Training a SVM classifier\n",
    "clf = SVC(kernel='rbf')  # Using RBF\n",
    "clf.fit(X, y)\n",
    "\n",
    "# Predicting on the training data\n",
    "y_pred = clf.predict(X)\n",
    "\n",
    "# Calculating the accuracy\n",
    "accuracy = accuracy_score(y, y_pred)\n",
    "accuracy\n",
    "\n",
    "#Simple stuff...for now"
   ]
  },
  {
   "cell_type": "code",
   "execution_count": null,
   "id": "dc8a7a95",
   "metadata": {},
   "outputs": [],
   "source": []
  }
 ],
 "metadata": {
  "kernelspec": {
   "display_name": "Python 3",
   "language": "python",
   "name": "python3"
  },
  "language_info": {
   "codemirror_mode": {
    "name": "ipython",
    "version": 3
   },
   "file_extension": ".py",
   "mimetype": "text/x-python",
   "name": "python",
   "nbconvert_exporter": "python",
   "pygments_lexer": "ipython3",
   "version": "3.8.8"
  }
 },
 "nbformat": 4,
 "nbformat_minor": 5
}
