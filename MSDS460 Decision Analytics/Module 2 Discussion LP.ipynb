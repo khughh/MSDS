{
 "cells": [
  {
   "cell_type": "markdown",
   "id": "999a6ab4",
   "metadata": {},
   "source": [
    "# Module 2 Discussion LP"
   ]
  },
  {
   "cell_type": "markdown",
   "id": "1b2a1736",
   "metadata": {},
   "source": [
    "## "
   ]
  },
  {
   "cell_type": "markdown",
   "id": "7e97dada",
   "metadata": {},
   "source": [
    "Part 1.\n",
    "\n",
    "Electro-Poly is a leading maker of slip-rings. A $750,000 order has just been received and must be filled.  Constraints in filling the order are based on hours for wiring each unit and hours for harnessing each unit. \n",
    "\n",
    "- Model 1\tModel 2\tModel 3\n",
    "- Ordered\t3000\t2000\t900\n",
    "- Hours for Wiring / Unit\t2\t1.5\t3\n",
    "- Hours of Harnessing / Unit\t1\t2\t1\n",
    "- Cost to Make\t50\t83\t130\n",
    "- Cost to Buy\t61\t97\t145\n",
    "\n",
    "The company has 10,000 hours of wiring capacity and 5,000 hours of harnessing capacity. It must either make or buy the various models to meet the demand.  Formulate this LP and solve using R, Python, GAMS, or Excel.  Provide your complete code and share with your colleagues."
   ]
  },
  {
   "cell_type": "markdown",
   "id": "c7419137",
   "metadata": {},
   "source": [
    "## Notes\n",
    "\n"
   ]
  },
  {
   "cell_type": "code",
   "execution_count": 1,
   "id": "d508cad1",
   "metadata": {},
   "outputs": [
    {
     "name": "stdout",
     "output_type": "stream",
     "text": [
      "Model 1 (Make): 3000.0\n",
      "Model 1 (Buy): 0.0\n",
      "Model 2 (Make): 550.0\n",
      "Model 2 (Buy): 1450.0\n",
      "Model 3 (Make): 900.0\n",
      "Model 3 (Buy): 0.0\n",
      "Total Cost: 453300.0\n"
     ]
    }
   ],
   "source": [
    "import pulp\n",
    "\n",
    "# Linear programming problem\n",
    "lp_problem = pulp.LpProblem(\"Electro-Poly\", pulp.LpMinimize)\n",
    "\n",
    "# Decision Variables\n",
    "x1 = pulp.LpVariable('x1', 0)\n",
    "x2 = pulp.LpVariable('x2', 0)\n",
    "x3 = pulp.LpVariable('x3', 0)\n",
    "y1 = pulp.LpVariable('y1', 0)\n",
    "y2 = pulp.LpVariable('y2', 0)\n",
    "y3 = pulp.LpVariable('y3', 0)\n",
    "\n",
    "# Objective Function\n",
    "lp_problem += 50*x1 + 83*x2 + 130*x3 + 61*y1 + 97*y2 + 145*y3, \"Total Cost\"\n",
    "\n",
    "# Constraints\n",
    "lp_problem += 2*x1 + 1.5*x2 + 3*x3 <= 10000, \"Wiring hours\"\n",
    "lp_problem += x1 + 2*x2 + x3 <= 5000, \"Harnessing hours\"\n",
    "lp_problem += x1 + y1 == 3000, \"Demand for Model 1\"\n",
    "lp_problem += x2 + y2 == 2000, \"Demand for Model 2\"\n",
    "lp_problem += x3 + y3 == 900, \"Demand for Model 3\"\n",
    "\n",
    "# Solve\n",
    "lp_problem.solve()\n",
    "print(\"Model 1 (Make):\", x1.varValue)\n",
    "print(\"Model 1 (Buy):\", y1.varValue)\n",
    "print(\"Model 2 (Make):\", x2.varValue)\n",
    "print(\"Model 2 (Buy):\", y2.varValue)\n",
    "print(\"Model 3 (Make):\", x3.varValue)\n",
    "print(\"Model 3 (Buy):\", y3.varValue)\n",
    "print(\"Total Cost:\", pulp.value(lp_problem.objective))\n"
   ]
  },
  {
   "cell_type": "code",
   "execution_count": null,
   "id": "7a1dfa1a",
   "metadata": {},
   "outputs": [],
   "source": []
  }
 ],
 "metadata": {
  "kernelspec": {
   "display_name": "Python 3",
   "language": "python",
   "name": "python3"
  },
  "language_info": {
   "codemirror_mode": {
    "name": "ipython",
    "version": 3
   },
   "file_extension": ".py",
   "mimetype": "text/x-python",
   "name": "python",
   "nbconvert_exporter": "python",
   "pygments_lexer": "ipython3",
   "version": "3.8.8"
  }
 },
 "nbformat": 4,
 "nbformat_minor": 5
}
