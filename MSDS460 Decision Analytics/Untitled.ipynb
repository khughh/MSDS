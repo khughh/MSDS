{
 "cells": [
  {
   "cell_type": "code",
   "execution_count": 1,
   "id": "4f892ea9",
   "metadata": {},
   "outputs": [
    {
     "name": "stdout",
     "output_type": "stream",
     "text": [
      "Mean: 132.9642, Variance: 1103.8352\n"
     ]
    }
   ],
   "source": [
    "import random\n",
    "import statistics\n",
    "\n",
    "def unfair_die_roll(n):\n",
    "    \"\"\"Roll an unfair die where the probability is proportional to the number.\"\"\"\n",
    "    # Probabilities are proportional to the face values.\n",
    "    total_sum = sum(range(1, n+1))\n",
    "    weights = [i/total_sum for i in range(1, n+1)]\n",
    "    # Use random.choices to simulate one roll of the unfair die.\n",
    "    return random.choices(range(1, n+1), weights=weights, k=1)[0]\n",
    "\n",
    "def two_dice_simulation(n, num_trials):\n",
    "    \"\"\"Simulate rolling two unfair dice.\"\"\"\n",
    "    results = []\n",
    "    for _ in range(num_trials):\n",
    "        die1 = unfair_die_roll(n)\n",
    "        die2 = unfair_die_roll(n)\n",
    "        results.append(die1 + die2)\n",
    "    return results\n",
    "\n",
    "# Set parameters\n",
    "n = 99  # Number of sides on each die\n",
    "num_trials = 40000  # Number of trials in the simulation\n",
    "\n",
    "# Run the simulation\n",
    "results = two_dice_simulation(n, num_trials)\n",
    "\n",
    "# Calculate statistics\n",
    "mean = statistics.mean(results)\n",
    "variance = statistics.variance(results)\n",
    "\n",
    "# Output results\n",
    "print(f\"Mean: {mean:.4f}, Variance: {variance:.4f}\")\n"
   ]
  },
  {
   "cell_type": "code",
   "execution_count": null,
   "id": "e776246b",
   "metadata": {},
   "outputs": [],
   "source": []
  }
 ],
 "metadata": {
  "kernelspec": {
   "display_name": "Python 3",
   "language": "python",
   "name": "python3"
  },
  "language_info": {
   "codemirror_mode": {
    "name": "ipython",
    "version": 3
   },
   "file_extension": ".py",
   "mimetype": "text/x-python",
   "name": "python",
   "nbconvert_exporter": "python",
   "pygments_lexer": "ipython3",
   "version": "3.8.8"
  }
 },
 "nbformat": 4,
 "nbformat_minor": 5
}
