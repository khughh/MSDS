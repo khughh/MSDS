{
 "cells": [
  {
   "cell_type": "markdown",
   "id": "34a407ac",
   "metadata": {},
   "source": [
    "## HW Assignment 1 Running sheet"
   ]
  },
  {
   "cell_type": "code",
   "execution_count": null,
   "id": "1daa2b1c",
   "metadata": {},
   "outputs": [],
   "source": [
    "import pulp"
   ]
  },
  {
   "cell_type": "markdown",
   "id": "0a8faf61",
   "metadata": {},
   "source": [
    "# Q1"
   ]
  },
  {
   "cell_type": "code",
   "execution_count": 1,
   "id": "d60e06ff",
   "metadata": {},
   "outputs": [
    {
     "name": "stdout",
     "output_type": "stream",
     "text": [
      "Optimal solution:\n",
      "Steel 1 from Mill 1: 400.0 tons\n",
      "Steel 2 from Mill 1: 117.64706 tons\n",
      "Steel 3 from Mill 1: 0.0 tons\n",
      "Steel 1 from Mill 2: 0.0 tons\n",
      "Steel 2 from Mill 2: 382.35294 tons\n",
      "Steel 3 from Mill 2: 300.0 tons\n",
      "Total cost: $11735.294119999999\n"
     ]
    }
   ],
   "source": [
    "prob = pulp.LpProblem(\"SteelCo_Manufacturing\", pulp.LpMinimize)\n",
    "\n",
    "# Decision variables\n",
    "x11 = pulp.LpVariable(\"x11\", lowBound=0)  # Steel 1 from Mill 1\n",
    "x12 = pulp.LpVariable(\"x12\", lowBound=0)  # Steel 2 from Mill 1\n",
    "x13 = pulp.LpVariable(\"x13\", lowBound=0)  # Steel 3 from Mill 1\n",
    "x21 = pulp.LpVariable(\"x21\", lowBound=0)  # Steel 1 from Mill 2\n",
    "x22 = pulp.LpVariable(\"x22\", lowBound=0)  # Steel 2 from Mill 2\n",
    "x23 = pulp.LpVariable(\"x23\", lowBound=0)  # Steel 3 from Mill 2\n",
    "\n",
    "# Objective function\n",
    "prob += 10*x11 + 11*x12 + 14*x13 + 12*x21 + 9*x22 + 10*x23\n",
    "\n",
    "# Constraints\n",
    "# Steel demand\n",
    "prob += x11 + x21 >= 400  # Steel 1 demand\n",
    "prob += x12 + x22 >= 500  # Steel 2 demand\n",
    "prob += x13 + x23 >= 300  # Steel 3 demand\n",
    "\n",
    "# Steel 2 manufacturing constraint\n",
    "prob += x12 + x22 <= x11 + x21 + x13 + x23\n",
    "\n",
    "# Blast furnace time constraints\n",
    "prob += 20*x11 + 22*x12 + 28*x13 <= 200*60  # Mill 1 time constraint\n",
    "prob += 24*x21 + 18*x22 + 30*x23 <= 300*60  # Mill 2 time constraint\n",
    "\n",
    "# Uniform usage of mills\n",
    "mill1_utilization = (20*x11 + 22*x12 + 28*x13)/(200*60)\n",
    "mill2_utilization = (24*x21 + 18*x22 + 30*x23)/(300*60)\n",
    "prob += mill1_utilization - mill2_utilization == 0\n",
    "\n",
    "# Solve the problem\n",
    "prob.solve()\n",
    "\n",
    "# Output the results\n",
    "print(\"Optimal solution:\")\n",
    "print(f\"Steel 1 from Mill 1: {x11.varValue} tons\")\n",
    "print(f\"Steel 2 from Mill 1: {x12.varValue} tons\")\n",
    "print(f\"Steel 3 from Mill 1: {x13.varValue} tons\")\n",
    "print(f\"Steel 1 from Mill 2: {x21.varValue} tons\")\n",
    "print(f\"Steel 2 from Mill 2: {x22.varValue} tons\")\n",
    "print(f\"Steel 3 from Mill 2: {x23.varValue} tons\")\n",
    "print(f\"Total cost: ${pulp.value(prob.objective)}\")\n"
   ]
  },
  {
   "cell_type": "markdown",
   "id": "dfa357a9",
   "metadata": {},
   "source": [
    "## Q2"
   ]
  },
  {
   "cell_type": "code",
   "execution_count": 1,
   "id": "890b9be6",
   "metadata": {},
   "outputs": [
    {
     "name": "stdout",
     "output_type": "stream",
     "text": [
      "Optimal Solution:\n",
      "x1 = 2.0\n",
      "x2 = 5.5\n",
      "Optimal Objective Value (Z) = 3.0\n"
     ]
    }
   ],
   "source": [
    "import pulp\n",
    "lp_problem = pulp.LpProblem('LP_Problem', pulp.LpMaximize)\n",
    "\n",
    "x1 = pulp.LpVariable('x1', lowBound=0)\n",
    "x2 = pulp.LpVariable('x2', lowBound=0)\n",
    "\n",
    "# Objective Funciton\n",
    "objective_function = -4 * x1 + 2 * x2\n",
    "lp_problem += objective_function, 'Maximize Z'\n",
    "\n",
    "# Constraints\n",
    "lp_problem += -2 * x1 + 2 * x2 <= 7, 'Constraint 1'\n",
    "lp_problem += x1 >= 2, 'Constraint 2'\n",
    "lp_problem += x1 - 4 * x2 <= 0, 'Constraint 3'\n",
    "lp_problem += 2 * x1 + 2 * x2 >= 10, 'Constraint 4'\n",
    "\n",
    "lp_problem.solve()\n",
    "\n",
    "if pulp.LpStatus[lp_problem.status] == 'Optimal':\n",
    "    print(f'Optimal Solution:')\n",
    "    print(f'x1 = {x1.varValue}')\n",
    "    print(f'x2 = {x2.varValue}')\n",
    "    print(f'Optimal Objective Value (Z) = {pulp.value(lp_problem.objective)}')\n",
    "else:\n",
    "    print('No optimal solution found.')\n"
   ]
  },
  {
   "cell_type": "markdown",
   "id": "0118791f",
   "metadata": {},
   "source": [
    "## Q3"
   ]
  },
  {
   "cell_type": "code",
   "execution_count": 3,
   "id": "888b9207",
   "metadata": {},
   "outputs": [
    {
     "name": "stdout",
     "output_type": "stream",
     "text": [
      "Investment strategy:\n",
      "X11: $0.0\n",
      "X12: $0.0\n",
      "X13: $0.0\n",
      "X14: $200.0\n",
      "X21: $199.8002\n",
      "X22: $0.0\n",
      "X23: $100.1998\n",
      "X31: $0.0\n",
      "X32: $0.0\n",
      "X41: $50.0\n",
      "\n",
      "Total cash at the start of month 5: $369.255794\n"
     ]
    }
   ],
   "source": [
    "model = pulp.LpProblem(\"Finco_Investment_Strategy_Revised\", pulp.LpMaximize)\n",
    "\n",
    "# Decision variables\n",
    "X11, X12, X13, X14 = pulp.LpVariable('X11', 0), pulp.LpVariable('X12', 0), pulp.LpVariable('X13', 0), pulp.LpVariable('X14', 0)\n",
    "X21, X22, X23 = pulp.LpVariable('X21', 0), pulp.LpVariable('X22', 0), pulp.LpVariable('X23', 0)\n",
    "X31, X32 = pulp.LpVariable('X31', 0), pulp.LpVariable('X32', 0)\n",
    "X41 = pulp.LpVariable('X41', 0)\n",
    "\n",
    "# Objective function\n",
    "model += 1.08 * X14 + 1.03 * X23 + 1.01 * X32 + 1.001 * X41, \"Z\"\n",
    "\n",
    "# Constraints\n",
    "model += X11 + X12 + X13 + X14 == 400 + 400 - 600\n",
    "model += X21 + X22 + X23 == 1.001 * X11 + 800 - 500\n",
    "model += X31 + X32 == 1.001 * X12 + 1.001 * X21 + 300 - 500\n",
    "model += X41 == 1.001 * X13 + 1.001 * X22 + 1.001 * X31 + 300 - 250\n",
    "\n",
    "model.solve()\n",
    "\n",
    "print(\"Investment strategy:\")\n",
    "print(f'X11: ${X11.varValue}')\n",
    "print(f'X12: ${X12.varValue}')\n",
    "print(f'X13: ${X13.varValue}')\n",
    "print(f'X14: ${X14.varValue}')\n",
    "print(f'X21: ${X21.varValue}')\n",
    "print(f'X22: ${X22.varValue}')\n",
    "print(f'X23: ${X23.varValue}')\n",
    "print(f'X31: ${X31.varValue}')\n",
    "print(f'X32: ${X32.varValue}')\n",
    "print(f'X41: ${X41.varValue}')\n",
    "print(f'\\nTotal cash at the start of month 5: ${pulp.value(model.objective)}')\n"
   ]
  },
  {
   "cell_type": "markdown",
   "id": "ecd3e928",
   "metadata": {},
   "source": [
    "## Q4"
   ]
  },
  {
   "cell_type": "code",
   "execution_count": 4,
   "id": "f17222a5",
   "metadata": {},
   "outputs": [
    {
     "name": "stdout",
     "output_type": "stream",
     "text": [
      "Optimal Strategy:\n",
      "Number of type 1 turkeys to buy: 8.6666667\n",
      "Number of type 2 turkeys to buy: 3.2222222\n",
      "Total weight of cutlet 1 produced: 50.0 lbs\n",
      "Total weight of cutlet 2 produced: 30.0 lbs\n",
      "Optimal profit: $177.55555539999997\n"
     ]
    }
   ],
   "source": [
    "model = pulp.LpProblem(\"Turkeyco_Profit_Maximization\", pulp.LpMaximize)\n",
    "\n",
    "# Decision variables\n",
    "x1 = pulp.LpVariable('x1', lowBound=0)  # number of type 1 turkeys Turkeyco buys\n",
    "x2 = pulp.LpVariable('x2', lowBound=0)  # number of type 2 turkeys Turkeyco buys\n",
    "w1 = pulp.LpVariable('w1', lowBound=0, upBound=50)  # total weight of cutlet 1 produced\n",
    "w2 = pulp.LpVariable('w2', lowBound=0, upBound=30)  # total weight of cutlet 2 produced\n",
    "\n",
    "# Objective function\n",
    "model += 4*w1 + 3*w2 - 10*x1 - 8*x2, \"Z\"\n",
    "\n",
    "# Constraints\n",
    "model += 5*x1 + 3*x2 >= 0.7*w1 + 0.6*w2  # white meat yield\n",
    "model += 2*x1 + 3*x2 >= 0.3*w1 + 0.4*w2  # dark meat yield\n",
    "\n",
    "model.solve()\n",
    "\n",
    "print(\"Optimal Strategy:\")\n",
    "print(f'Number of type 1 turkeys to buy: {x1.varValue}')\n",
    "print(f'Number of type 2 turkeys to buy: {x2.varValue}')\n",
    "print(f'Total weight of cutlet 1 produced: {w1.varValue} lbs')\n",
    "print(f'Total weight of cutlet 2 produced: {w2.varValue} lbs')\n",
    "print(f'Optimal profit: ${pulp.value(model.objective)}')\n"
   ]
  },
  {
   "cell_type": "markdown",
   "id": "03622201",
   "metadata": {},
   "source": [
    "## Q5"
   ]
  },
  {
   "cell_type": "code",
   "execution_count": 5,
   "id": "5efb4631",
   "metadata": {},
   "outputs": [
    {
     "name": "stdout",
     "output_type": "stream",
     "text": [
      "x1 = 130.0\n",
      "x2 = 150.0\n",
      "x3 = 200.0\n",
      "x4 = 150.0\n",
      "y1 = 60.0\n",
      "y2 = 50.0\n",
      "y3 = 0.0\n",
      "y4 = 0.0\n",
      "z = 60.0\n",
      "Optimal Objective Function Value (Total Cost) = $10705.0\n"
     ]
    }
   ],
   "source": [
    "lp_problem = pulp.LpProblem(\"Production_Scheduling\", pulp.LpMinimize)\n",
    "\n",
    "# Define decision variables\n",
    "quarters = [1, 2, 3, 4]  # Four quarters\n",
    "x = {i: pulp.LpVariable(f\"x{i}\", lowBound=0, upBound=200, cat=pulp.LpInteger) for i in quarters}\n",
    "y = {i: pulp.LpVariable(f\"y{i}\", lowBound=0, upBound=60, cat=pulp.LpInteger) for i in quarters}\n",
    "z = pulp.LpVariable(\"z\", lowBound=0, upBound=60, cat=pulp.LpInteger)\n",
    "\n",
    "# Objective Function\n",
    "lp_problem += (\n",
    "    15 * x[1] + 16 * x[2] + 17 * x[3] + 18 * x[4] + 1.5 * (y[1] + y[2] + y[3] + z),\n",
    "    \"Total_Cost\",\n",
    ")\n",
    "\n",
    "# Constraints\n",
    "demand = [130, 160, 250, 150]\n",
    "for i in quarters:\n",
    "    lp_problem += x[i] + (y[i - 1] if i != 1 else y[4]) >= demand[i - 1]\n",
    "\n",
    "for i in quarters[1:]:\n",
    "    lp_problem += y[i] == x[i] - demand[i - 1] + y[i - 1]\n",
    "lp_problem += y[1] == x[1] - demand[0] + y[4] + z  \n",
    "\n",
    "lp_problem.solve()\n",
    "\n",
    "if pulp.LpStatus[lp_problem.status] == \"Optimal\":\n",
    "    for i in quarters:\n",
    "        print(f\"x{i} = {x[i].varValue}\")\n",
    "    for i in quarters:\n",
    "        print(f\"y{i} = {y[i].varValue}\")\n",
    "    print(f\"z = {z.varValue}\")\n",
    "    print(f\"Optimal Objective Function Value (Total Cost) = ${pulp.value(lp_problem.objective)}\")\n",
    "else:\n",
    "    print(\"No optimal solution found.\")\n"
   ]
  },
  {
   "cell_type": "code",
   "execution_count": null,
   "id": "0a723bfb",
   "metadata": {},
   "outputs": [],
   "source": []
  }
 ],
 "metadata": {
  "kernelspec": {
   "display_name": "Python 3",
   "language": "python",
   "name": "python3"
  },
  "language_info": {
   "codemirror_mode": {
    "name": "ipython",
    "version": 3
   },
   "file_extension": ".py",
   "mimetype": "text/x-python",
   "name": "python",
   "nbconvert_exporter": "python",
   "pygments_lexer": "ipython3",
   "version": "3.8.8"
  }
 },
 "nbformat": 4,
 "nbformat_minor": 5
}
