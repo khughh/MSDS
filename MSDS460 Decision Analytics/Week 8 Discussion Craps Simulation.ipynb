{
 "cells": [
  {
   "cell_type": "code",
   "execution_count": 1,
   "id": "7f6cdf75",
   "metadata": {},
   "outputs": [
    {
     "name": "stdout",
     "output_type": "stream",
     "text": [
      "Simulated 1000 games of craps.\n",
      "Estimated probability of winning: 0.4880\n",
      "Total wins: 488\n",
      "Total losses: 512\n"
     ]
    }
   ],
   "source": [
    "import random\n",
    "\n",
    "def roll_dice(num_sides=6):\n",
    "    \"\"\"Roll a single dice with 'num_sides' sides.\"\"\"\n",
    "    return random.randint(1, num_sides)\n",
    "\n",
    "def simulate_craps(num_simulations=1000):\n",
    "    \"\"\"Simulate 'num_simulations' games of craps and return the estimated probability of winning.\"\"\"\n",
    "    wins = 0\n",
    "    losses = 0\n",
    "\n",
    "    for _ in range(num_simulations):\n",
    "        come_out_roll = roll_dice() + roll_dice()\n",
    "\n",
    "        # Win on come out roll\n",
    "        if come_out_roll in (7, 11):\n",
    "            wins += 1\n",
    "            continue\n",
    "\n",
    "        # Lose on come out roll\n",
    "        if come_out_roll in (2, 3, 12):\n",
    "            losses += 1\n",
    "            continue\n",
    "\n",
    "        # Point is established; roll until point or 7\n",
    "        point = come_out_roll\n",
    "        while True:\n",
    "            roll = roll_dice() + roll_dice()\n",
    "            if roll == point:\n",
    "                wins += 1\n",
    "                break\n",
    "            if roll == 7:\n",
    "                losses += 1\n",
    "                break\n",
    "\n",
    "    win_probability = wins / num_simulations\n",
    "    return win_probability, wins, losses\n",
    "\n",
    "# Parameters\n",
    "num_simulations = 1000\n",
    "\n",
    "# Run the simulation\n",
    "win_probability, wins, losses = simulate_craps(num_simulations)\n",
    "\n",
    "# Print the results\n",
    "print(f\"Simulated {num_simulations} games of craps.\")\n",
    "print(f\"Estimated probability of winning: {win_probability:.4f}\")\n",
    "print(f\"Total wins: {wins}\")\n",
    "print(f\"Total losses: {losses}\")\n"
   ]
  },
  {
   "cell_type": "code",
   "execution_count": null,
   "id": "8d6938be",
   "metadata": {},
   "outputs": [],
   "source": []
  }
 ],
 "metadata": {
  "kernelspec": {
   "display_name": "Python 3",
   "language": "python",
   "name": "python3"
  },
  "language_info": {
   "codemirror_mode": {
    "name": "ipython",
    "version": 3
   },
   "file_extension": ".py",
   "mimetype": "text/x-python",
   "name": "python",
   "nbconvert_exporter": "python",
   "pygments_lexer": "ipython3",
   "version": "3.8.8"
  }
 },
 "nbformat": 4,
 "nbformat_minor": 5
}
