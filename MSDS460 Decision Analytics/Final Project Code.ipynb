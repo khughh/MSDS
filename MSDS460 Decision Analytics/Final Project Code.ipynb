{
 "cells": [
  {
   "cell_type": "code",
   "execution_count": 1,
   "id": "20453fac-dea9-42b6-9661-5f72fc77932e",
   "metadata": {},
   "outputs": [],
   "source": [
    "import pulp\n",
    "import re"
   ]
  },
  {
   "cell_type": "code",
   "execution_count": 2,
   "id": "887af6cf-9a6d-439c-ae31-7cd1b65d1327",
   "metadata": {},
   "outputs": [],
   "source": [
    "# Names for breweries\n",
    "breweries = [\"B1\", \"B2\", \"B3\", \"B4\"]\n",
    "\n",
    "# Dictionary for maximumn units of beer from each brewer\n",
    "breweries_max = {\"B1\": 2000,\n",
    "                   \"B2\": 2500,\n",
    "                   \"B3\": 3500,\n",
    "                   \"B4\": 2000}\n",
    "\n",
    "breweries_min = {\"B1\": 100,\n",
    "                       \"B2\": 150,\n",
    "                       \"B3\": 200,\n",
    "                       \"B4\": 100}\n",
    "\n",
    "packaging_facilities = [\"P1\", \"P2\", \"P3\"]\n",
    "\n",
    "packaging_maximum = {\"P1\":500,\n",
    "              \"P2\":1500,\n",
    "              \"P3\":2500}\n",
    "\n",
    " # Dictionary for minimum number of units packaging facilities would package\n",
    "# Values at the low end would suggest closing the packaging facility\n",
    "packaging_minimum = {\"P1\":50,\n",
    "          \"P2\":100,\n",
    "          \"P3\":150}\n",
    "\n",
    "\n",
    "# Names of demand points (retailers and pubs)\n",
    "demanding = [\"D01\", \"D02\", \"D03\", \"D04\", \"D05\",\n",
    "             \"D06\", \"D07\", \"D08\", \"D09\", \"D10\",\n",
    "             \"D11\", \"D12\", \"D13\", \"D14\", \"D15\"]\n",
    "\n",
    "demand = {\"D01\": 48, \"D02\": 84, \"D03\": 64, \"D04\": 106, \"D05\": 47,\n",
    "              \"D06\": 57, \"D07\": 64, \"D08\": 93, \"D09\": 74, \"D10\": 41,\n",
    "              \"D11\": 61, \"D12\": 42, \"D13\": 57, \"D14\": 70, \"D15\": 41}\n",
    "\n",
    "total_demand = sum(demand.values())"
   ]
  },
  {
   "cell_type": "code",
   "execution_count": 3,
   "id": "b5155293-4576-4202-a3c2-81dfe7a557bc",
   "metadata": {},
   "outputs": [],
   "source": [
    "brew_to_pack_shipping_costs = [# packaging facilities in columns\n",
    "         #  P1   P2   P3 Packaging Facilities in cols\n",
    "         [1.55,0.51,0.90], # B1   Breweries in rows\n",
    "         [0.81,3.18,0.65], # B2\n",
    "         [2.13,0.97,0.51], # B3\n",
    "         [1.23,2.15,2.08]  # B4\n",
    "         ]"
   ]
  },
  {
   "cell_type": "code",
   "execution_count": 4,
   "id": "7d8ef8a6-3c63-4691-ac1b-ce88ecb3599d",
   "metadata": {},
   "outputs": [],
   "source": [
    "pack_to_demand_shipping_costs = [\n",
    "        [4.82, 2.05, 4.42, 3.83, 0.97,\n",
    "         3.04, 3.91, 4.03, 5.11, 0.90,\n",
    "         4.39, 0.85, 2.81, 3.94, 1.04], # from packaging facility 1\n",
    "        [1.83, 4.03, 3.95, 4.21, 4.78,\n",
    "         3.20, 1.88, 2.96, 5.11, 2.67,\n",
    "         4.14, 1.22, 5.10, 3.47, 1.92],# from packaging facility 2\n",
    "        [2.66, 0.95, 3.94, 2.04, 2.35,\n",
    "         1.42, 3.60, 3.17, 1.34, 4.51,\n",
    "         0.74, 0.94, 1.98, 4.77, 2.04] # from packaging facility 3\n",
    "        ]"
   ]
  },
  {
   "cell_type": "code",
   "execution_count": 5,
   "id": "6e76c667-2e57-4c51-a195-be2ae5796d2e",
   "metadata": {},
   "outputs": [],
   "source": [
    "first_costs = pulp.makeDict([breweries, packaging_facilities],brew_to_pack_shipping_costs,0)\n",
    "second_costs = pulp.makeDict([packaging_facilities, demanding],pack_to_demand_shipping_costs,0)"
   ]
  },
  {
   "cell_type": "code",
   "execution_count": 6,
   "id": "aa345e1c-7af9-426f-a5e6-4f5d9e799f05",
   "metadata": {},
   "outputs": [],
   "source": [
    "prob = pulp.LpProblem(\"Beer_Distribution_Problem\",pulp.LpMinimize)"
   ]
  },
  {
   "cell_type": "code",
   "execution_count": 7,
   "id": "9f61f9ea-dcf5-497c-bf09-bc6633f8f0f9",
   "metadata": {},
   "outputs": [],
   "source": [
    "first_routes = [(i,j) for i in breweries for j in packaging_facilities]"
   ]
  },
  {
   "cell_type": "code",
   "execution_count": 8,
   "id": "607f14a1-64df-4bac-a371-96ac514c7632",
   "metadata": {},
   "outputs": [],
   "source": [
    "first_vars = pulp.LpVariable.dicts(\"route\",(breweries,packaging_facilities),0,None,pulp.LpContinuous)"
   ]
  },
  {
   "cell_type": "code",
   "execution_count": 9,
   "id": "8961724c-5245-48f1-95bc-b3d18200fd05",
   "metadata": {},
   "outputs": [],
   "source": [
    "second_routes = [(j,k) for j in packaging_facilities for k in demanding]"
   ]
  },
  {
   "cell_type": "code",
   "execution_count": 10,
   "id": "9704ea9d-e0c5-4a55-a866-80077950d242",
   "metadata": {},
   "outputs": [],
   "source": [
    "second_vars = pulp.LpVariable.dicts(\"route\", (packaging_facilities,demanding),0,None,pulp.LpContinuous)\n"
   ]
  },
  {
   "cell_type": "code",
   "execution_count": 11,
   "id": "fcc7bcad-85fc-43e2-aefa-b97c7a38bbc6",
   "metadata": {},
   "outputs": [],
   "source": [
    "#objective_function\n",
    "prob += pulp.lpSum([first_vars[i][j]*first_costs[i][j] for (i,j) in first_routes]) + pulp.lpSum([second_vars[j][k]*second_costs[j][k] for (j,k) in second_routes])"
   ]
  },
  {
   "cell_type": "code",
   "execution_count": 12,
   "id": "8b1bb81e-5105-4307-961f-c94d89e8fe08",
   "metadata": {},
   "outputs": [],
   "source": [
    "#constraints for max production for breweries\n",
    "for i in breweries:\n",
    "    prob += pulp.lpSum([first_vars[i][j] for j in packaging_facilities]) <= breweries_max[i]"
   ]
  },
  {
   "cell_type": "code",
   "execution_count": 13,
   "id": "3b4591e4-8519-4bc8-b29d-7646d743fb00",
   "metadata": {},
   "outputs": [],
   "source": [
    "#constraints for minimum production for breweries\n",
    "prob += pulp.lpSum([first_vars[i][j] for j in packaging_facilities]) >= breweries_min[i]"
   ]
  },
  {
   "cell_type": "code",
   "execution_count": 14,
   "id": "52726c96-e6ca-423a-8f55-672b3cdd2bbb",
   "metadata": {},
   "outputs": [],
   "source": [
    "#constraints for max production at the packaging faciltiies\n",
    "for j in packaging_facilities:\n",
    "    prob += pulp.lpSum([second_vars[j][k] for k in demanding]) <= packaging_maximum[j]"
   ]
  },
  {
   "cell_type": "code",
   "execution_count": 15,
   "id": "5eafeea8-6bf6-4826-8303-c276b95d15b6",
   "metadata": {},
   "outputs": [],
   "source": [
    "#constraints for min production at packaging facilities\n",
    "for j in packaging_facilities:\n",
    "    prob += pulp.lpSum([second_vars[j][k] for k in demanding]) >= packaging_minimum[j]"
   ]
  },
  {
   "cell_type": "code",
   "execution_count": 16,
   "id": "f71500cb-6d6b-4c74-a884-216b48267dcf",
   "metadata": {},
   "outputs": [],
   "source": [
    "#constraints for demand points\n",
    "for k in demanding:\n",
    "    prob += pulp.lpSum([second_vars[j][k] for j in packaging_facilities]) >= demand[k]"
   ]
  },
  {
   "cell_type": "code",
   "execution_count": 17,
   "id": "37276319-4885-48e9-899e-d59aee72a52d",
   "metadata": {},
   "outputs": [],
   "source": [
    "#constraint for packaging input being larger than packaging output\n",
    "for j in packaging_facilities:\n",
    "    prob += pulp.lpSum([first_vars[i][j] for i in breweries]) >= pulp.lpSum([second_vars[j][k] for k in demanding])"
   ]
  },
  {
   "cell_type": "code",
   "execution_count": 18,
   "id": "69ec8438-3a74-463b-b0aa-718745d96096",
   "metadata": {},
   "outputs": [
    {
     "data": {
      "text/plain": [
       "1"
      ]
     },
     "execution_count": 18,
     "metadata": {},
     "output_type": "execute_result"
    }
   ],
   "source": [
    "prob.solve()"
   ]
  },
  {
   "cell_type": "code",
   "execution_count": 19,
   "id": "2bff990b-53dd-4809-8849-a8e422d9bd83",
   "metadata": {},
   "outputs": [
    {
     "name": "stdout",
     "output_type": "stream",
     "text": [
      "route_B1_P1 = 0\n",
      "route_B1_P2 = 275\n",
      "route_B1_P3 = 0\n",
      "route_B2_P1 = 29\n",
      "route_B2_P2 = 0\n",
      "route_B2_P3 = 0\n",
      "route_B3_P1 = 0\n",
      "route_B3_P2 = 0\n",
      "route_B3_P3 = 545\n",
      "route_B4_P1 = 100\n",
      "route_B4_P2 = 0\n",
      "route_B4_P3 = 0\n",
      "route_P1_D01 = 0\n",
      "route_P1_D02 = 0\n",
      "route_P1_D03 = 0\n",
      "route_P1_D04 = 0\n",
      "route_P1_D05 = 47\n",
      "route_P1_D06 = 0\n",
      "route_P1_D07 = 0\n",
      "route_P1_D08 = 0\n",
      "route_P1_D09 = 0\n",
      "route_P1_D10 = 41\n",
      "route_P1_D11 = 0\n",
      "route_P1_D12 = 0\n",
      "route_P1_D13 = 0\n",
      "route_P1_D14 = 0\n",
      "route_P1_D15 = 41\n",
      "route_P2_D01 = 48\n",
      "route_P2_D02 = 0\n",
      "route_P2_D03 = 0\n",
      "route_P2_D04 = 0\n",
      "route_P2_D05 = 0\n",
      "route_P2_D06 = 0\n",
      "route_P2_D07 = 64\n",
      "route_P2_D08 = 93\n",
      "route_P2_D09 = 0\n",
      "route_P2_D10 = 0\n",
      "route_P2_D11 = 0\n",
      "route_P2_D12 = 0\n",
      "route_P2_D13 = 0\n",
      "route_P2_D14 = 70\n",
      "route_P2_D15 = 0\n",
      "route_P3_D01 = 0\n",
      "route_P3_D02 = 84\n",
      "route_P3_D03 = 64\n",
      "route_P3_D04 = 106\n",
      "route_P3_D05 = 0\n",
      "route_P3_D06 = 57\n",
      "route_P3_D07 = 0\n",
      "route_P3_D08 = 0\n",
      "route_P3_D09 = 74\n",
      "route_P3_D10 = 0\n",
      "route_P3_D11 = 61\n",
      "route_P3_D12 = 42\n",
      "route_P3_D13 = 57\n",
      "route_P3_D14 = 0\n",
      "route_P3_D15 = 0\n"
     ]
    }
   ],
   "source": [
    "for v in prob.variables():\n",
    "    print(v.name, \"=\", round(v.varValue))"
   ]
  },
  {
   "cell_type": "code",
   "execution_count": 20,
   "id": "68d223ca-3b28-452d-8735-40d3bb60cded",
   "metadata": {},
   "outputs": [],
   "source": [
    "B1_output = 0\n",
    "B2_output = 0\n",
    "B3_output = 0\n",
    "B4_output = 0\n",
    "P1_input = 0\n",
    "P2_input = 0\n",
    "P3_input = 0\n",
    "P1_output = 0\n",
    "P2_output = 0\n",
    "P3_output = 0"
   ]
  },
  {
   "cell_type": "code",
   "execution_count": 21,
   "id": "8d0385bf-804a-4d29-9101-42aec6df42f8",
   "metadata": {},
   "outputs": [],
   "source": [
    "for v in prob.variables():\n",
    "    if re.search(\"route_B1_..\",v.name):\n",
    "        B1_output += round(v.varValue)\n",
    "    if re.search(\"route_B2_..\",v.name):\n",
    "        B2_output += round(v.varValue)\n",
    "    if re.search(\"route_B3_..\",v.name):\n",
    "        B3_output += round(v.varValue)\n",
    "    if re.search(\"route_B4_..\",v.name):\n",
    "        B4_output += round(v.varValue)\n",
    "    if re.search(\"route_.._P1\",v.name):\n",
    "        P1_input += round(v.varValue)\n",
    "    if re.search(\"route_.._P2\",v.name):\n",
    "        P2_input += round(v.varValue)\n",
    "    if re.search(\"route_.._P3\",v.name):\n",
    "        P3_input += round(v.varValue)\n",
    "    if re.search(\"route_P1_...\",v.name):\n",
    "        P1_output += round(v.varValue)\n",
    "    if re.search(\"route_P2_...\",v.name):\n",
    "        P2_output += round(v.varValue)\n",
    "    if re.search(\"route_P3_...\",v.name):\n",
    "        P3_output += round(v.varValue)\n",
    "total_brewing_output = B1_output + B2_output + B3_output  + B4_output\n",
    "total_packaging_input = P1_input + P2_input + P3_input\n",
    "total_packaging_output = P1_output + P2_output + P3_output"
   ]
  },
  {
   "cell_type": "code",
   "execution_count": 22,
   "id": "f3e8b206-c1c5-47d6-a957-10e8d01ac4eb",
   "metadata": {},
   "outputs": [
    {
     "name": "stdout",
     "output_type": "stream",
     "text": [
      "B1_output: 275\n",
      "B2_output: 29\n",
      "B3_output: 545\n",
      "B4_output: 100\n"
     ]
    }
   ],
   "source": [
    "print(\"B1_output:\",B1_output)\n",
    "print(\"B2_output:\",B2_output)\n",
    "print(\"B3_output:\",B3_output)\n",
    "print(\"B4_output:\",B4_output)"
   ]
  },
  {
   "cell_type": "code",
   "execution_count": 23,
   "id": "6275dfbf-7ccf-4e5b-ad51-1284224021cc",
   "metadata": {},
   "outputs": [
    {
     "name": "stdout",
     "output_type": "stream",
     "text": [
      "P1_input: 129\n",
      "P2_input: 275\n",
      "P3_input: 545\n",
      "P1_output: 129\n",
      "P2_output: 275\n",
      "P3_output: 545\n",
      "total_brewing_output: 949\n",
      "total_packaging_input: 949\n",
      "total_packaging_output: 949\n",
      "total demand: 949\n"
     ]
    }
   ],
   "source": [
    "print(\"P1_input:\",P1_input)\n",
    "print(\"P2_input:\",P2_input)\n",
    "print(\"P3_input:\",P3_input)\n",
    "print(\"P1_output:\",P1_output)\n",
    "print(\"P2_output:\",P2_output)\n",
    "print(\"P3_output:\",P3_output)\n",
    "print(\"total_brewing_output:\", total_brewing_output)\n",
    "print(\"total_packaging_input:\", total_packaging_input)\n",
    "print(\"total_packaging_output:\", total_packaging_output)\n",
    "print(\"total demand:\", total_demand)"
   ]
  },
  {
   "cell_type": "code",
   "execution_count": 24,
   "id": "01fc560d-582e-4e78-b3c0-016b6681ac92",
   "metadata": {},
   "outputs": [
    {
     "name": "stdout",
     "output_type": "stream",
     "text": [
      "Total Shipping Costs =  2342\n"
     ]
    }
   ],
   "source": [
    "print(\"Total Shipping Costs = \", round(pulp.value(prob.objective)))"
   ]
  },
  {
   "cell_type": "code",
   "execution_count": null,
   "id": "2f04a805-7b46-4f6e-8bf2-c2b8b2083f92",
   "metadata": {},
   "outputs": [],
   "source": []
  }
 ],
 "metadata": {
  "kernelspec": {
   "display_name": "Python 3",
   "language": "python",
   "name": "python3"
  },
  "language_info": {
   "codemirror_mode": {
    "name": "ipython",
    "version": 3
   },
   "file_extension": ".py",
   "mimetype": "text/x-python",
   "name": "python",
   "nbconvert_exporter": "python",
   "pygments_lexer": "ipython3",
   "version": "3.8.8"
  }
 },
 "nbformat": 4,
 "nbformat_minor": 5
}
