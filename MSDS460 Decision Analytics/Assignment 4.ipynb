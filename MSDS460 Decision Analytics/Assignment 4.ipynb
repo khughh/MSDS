{
 "cells": [
  {
   "cell_type": "code",
   "execution_count": 10,
   "id": "f7c5494d",
   "metadata": {},
   "outputs": [],
   "source": [
    "import numpy as np\n",
    "import pandas as pd\n",
    "import matplotlib.pyplot as plt\n",
    "import seaborn as sns"
   ]
  },
  {
   "cell_type": "markdown",
   "id": "e5ff798a",
   "metadata": {},
   "source": [
    "# Question 1\n",
    "#### Generate N pairs of uniform random numbers (x,y), where x~ U(0,1) and y ~ U(0,1), and each (x,y) pair represents a point in the unit square. To obtain an estimate of π, count the fraction of points that fall inside the unit quarter circle and multiply by 4. Note that the fraction of points that fall inside the quarter circle should tend to the ratio between the area of the unit quarter circle (i.e., ¼ π) as compared to area of the unit square (i.e., 1). We proceed step-by-step:"
   ]
  },
  {
   "cell_type": "markdown",
   "id": "fd4f6375",
   "metadata": {},
   "source": [
    "## Part A\n",
    "#### Create a function insidecircle that takes two inputs between 0 and 1 and returns 1 if these points fall within the unit circle."
   ]
  },
  {
   "cell_type": "code",
   "execution_count": 3,
   "id": "6a469f8b",
   "metadata": {},
   "outputs": [],
   "source": [
    "def insidecircle(x, y):\n",
    "    return x**2 + y**2 <= 1"
   ]
  },
  {
   "cell_type": "markdown",
   "id": "85c6abce",
   "metadata": {},
   "source": [
    "## Part B\n",
    "#### Create a function estimatepi that takes a single input N, generates N pairs of uniform random numbers and uses insidecircle to produce an estimate of π as described above. In addition to the estimate of π, estimatepi should also return the standard error of this estimate, and a 95% confidence interval for the estimate. "
   ]
  },
  {
   "cell_type": "code",
   "execution_count": 8,
   "id": "15e55014",
   "metadata": {},
   "outputs": [],
   "source": [
    "def estimatepi(N):\n",
    "    x = np.random.uniform(0, 1, N)\n",
    "    y = np.random.uniform(0, 1, N)\n",
    "    df = pd.DataFrame({'x': x, 'y': y})\n",
    "    df['inside'] = df.apply(lambda row: insidecircle(row['x'], row['y']), axis=1)\n",
    "    mean = df['inside'].mean()\n",
    "    se = df['inside'].std() / np.sqrt(N)\n",
    "    pi_est = 4 * mean\n",
    "    pi_est_se = 4 * se\n",
    "    upper_95 = pi_est + 1.96 * pi_est_se\n",
    "    lower_95 = pi_est - 1.96 * pi_est_se\n",
    "    return pi_est, pi_est_se, upper_95, lower_95\n"
   ]
  },
  {
   "cell_type": "markdown",
   "id": "a3537174",
   "metadata": {},
   "source": [
    "## Part C\n",
    "#### Use estimatepi to estimate π for N = 1000 to 10000 in increments of 500 and record the estimate, its standard error and the upper and lower bounds of the 95% CI. How large must N be in order to ensure that your estimate of π is within 0.1 of the true value?"
   ]
  },
  {
   "cell_type": "code",
   "execution_count": 9,
   "id": "912dad40",
   "metadata": {},
   "outputs": [
    {
     "data": {
      "text/html": [
       "<div>\n",
       "<style scoped>\n",
       "    .dataframe tbody tr th:only-of-type {\n",
       "        vertical-align: middle;\n",
       "    }\n",
       "\n",
       "    .dataframe tbody tr th {\n",
       "        vertical-align: top;\n",
       "    }\n",
       "\n",
       "    .dataframe thead th {\n",
       "        text-align: right;\n",
       "    }\n",
       "</style>\n",
       "<table border=\"1\" class=\"dataframe\">\n",
       "  <thead>\n",
       "    <tr style=\"text-align: right;\">\n",
       "      <th></th>\n",
       "      <th>CI_estimate_gap</th>\n",
       "      <th>N</th>\n",
       "      <th>estimate</th>\n",
       "      <th>lower</th>\n",
       "      <th>se</th>\n",
       "      <th>upper</th>\n",
       "    </tr>\n",
       "  </thead>\n",
       "  <tbody>\n",
       "    <tr>\n",
       "      <th>0</th>\n",
       "      <td>0.203806</td>\n",
       "      <td>1000.0</td>\n",
       "      <td>3.140000</td>\n",
       "      <td>3.038097</td>\n",
       "      <td>0.051991</td>\n",
       "      <td>3.241903</td>\n",
       "    </tr>\n",
       "    <tr>\n",
       "      <th>1</th>\n",
       "      <td>0.169383</td>\n",
       "      <td>1500.0</td>\n",
       "      <td>3.096000</td>\n",
       "      <td>3.011308</td>\n",
       "      <td>0.043210</td>\n",
       "      <td>3.180692</td>\n",
       "    </tr>\n",
       "    <tr>\n",
       "      <th>2</th>\n",
       "      <td>0.143955</td>\n",
       "      <td>2000.0</td>\n",
       "      <td>3.142000</td>\n",
       "      <td>3.070023</td>\n",
       "      <td>0.036723</td>\n",
       "      <td>3.213977</td>\n",
       "    </tr>\n",
       "    <tr>\n",
       "      <th>3</th>\n",
       "      <td>0.128729</td>\n",
       "      <td>2500.0</td>\n",
       "      <td>3.142400</td>\n",
       "      <td>3.078036</td>\n",
       "      <td>0.032839</td>\n",
       "      <td>3.206764</td>\n",
       "    </tr>\n",
       "    <tr>\n",
       "      <th>4</th>\n",
       "      <td>0.116690</td>\n",
       "      <td>3000.0</td>\n",
       "      <td>3.158667</td>\n",
       "      <td>3.100322</td>\n",
       "      <td>0.029768</td>\n",
       "      <td>3.217012</td>\n",
       "    </tr>\n",
       "    <tr>\n",
       "      <th>5</th>\n",
       "      <td>0.108874</td>\n",
       "      <td>3500.0</td>\n",
       "      <td>3.140571</td>\n",
       "      <td>3.086135</td>\n",
       "      <td>0.027774</td>\n",
       "      <td>3.195008</td>\n",
       "    </tr>\n",
       "    <tr>\n",
       "      <th>6</th>\n",
       "      <td>0.100099</td>\n",
       "      <td>4000.0</td>\n",
       "      <td>3.180000</td>\n",
       "      <td>3.129950</td>\n",
       "      <td>0.025536</td>\n",
       "      <td>3.230050</td>\n",
       "    </tr>\n",
       "    <tr>\n",
       "      <th>7</th>\n",
       "      <td>0.093934</td>\n",
       "      <td>4500.0</td>\n",
       "      <td>3.190222</td>\n",
       "      <td>3.143255</td>\n",
       "      <td>0.023963</td>\n",
       "      <td>3.237189</td>\n",
       "    </tr>\n",
       "    <tr>\n",
       "      <th>8</th>\n",
       "      <td>0.091170</td>\n",
       "      <td>5000.0</td>\n",
       "      <td>3.138400</td>\n",
       "      <td>3.092815</td>\n",
       "      <td>0.023258</td>\n",
       "      <td>3.183985</td>\n",
       "    </tr>\n",
       "    <tr>\n",
       "      <th>9</th>\n",
       "      <td>0.085960</td>\n",
       "      <td>5500.0</td>\n",
       "      <td>3.164364</td>\n",
       "      <td>3.121384</td>\n",
       "      <td>0.021929</td>\n",
       "      <td>3.207344</td>\n",
       "    </tr>\n",
       "    <tr>\n",
       "      <th>10</th>\n",
       "      <td>0.082022</td>\n",
       "      <td>6000.0</td>\n",
       "      <td>3.172000</td>\n",
       "      <td>3.130989</td>\n",
       "      <td>0.020924</td>\n",
       "      <td>3.213011</td>\n",
       "    </tr>\n",
       "    <tr>\n",
       "      <th>11</th>\n",
       "      <td>0.080102</td>\n",
       "      <td>6500.0</td>\n",
       "      <td>3.134154</td>\n",
       "      <td>3.094103</td>\n",
       "      <td>0.020434</td>\n",
       "      <td>3.174205</td>\n",
       "    </tr>\n",
       "    <tr>\n",
       "      <th>12</th>\n",
       "      <td>0.077257</td>\n",
       "      <td>7000.0</td>\n",
       "      <td>3.132000</td>\n",
       "      <td>3.093371</td>\n",
       "      <td>0.019708</td>\n",
       "      <td>3.170629</td>\n",
       "    </tr>\n",
       "    <tr>\n",
       "      <th>13</th>\n",
       "      <td>0.074446</td>\n",
       "      <td>7500.0</td>\n",
       "      <td>3.138133</td>\n",
       "      <td>3.100910</td>\n",
       "      <td>0.018991</td>\n",
       "      <td>3.175356</td>\n",
       "    </tr>\n",
       "    <tr>\n",
       "      <th>14</th>\n",
       "      <td>0.072176</td>\n",
       "      <td>8000.0</td>\n",
       "      <td>3.135000</td>\n",
       "      <td>3.098912</td>\n",
       "      <td>0.018412</td>\n",
       "      <td>3.171088</td>\n",
       "    </tr>\n",
       "    <tr>\n",
       "      <th>15</th>\n",
       "      <td>0.070102</td>\n",
       "      <td>8500.0</td>\n",
       "      <td>3.132235</td>\n",
       "      <td>3.097184</td>\n",
       "      <td>0.017883</td>\n",
       "      <td>3.167286</td>\n",
       "    </tr>\n",
       "    <tr>\n",
       "      <th>16</th>\n",
       "      <td>0.068620</td>\n",
       "      <td>9000.0</td>\n",
       "      <td>3.114667</td>\n",
       "      <td>3.080357</td>\n",
       "      <td>0.017505</td>\n",
       "      <td>3.148976</td>\n",
       "    </tr>\n",
       "    <tr>\n",
       "      <th>17</th>\n",
       "      <td>0.065661</td>\n",
       "      <td>9500.0</td>\n",
       "      <td>3.155368</td>\n",
       "      <td>3.122538</td>\n",
       "      <td>0.016750</td>\n",
       "      <td>3.188199</td>\n",
       "    </tr>\n",
       "    <tr>\n",
       "      <th>18</th>\n",
       "      <td>0.064669</td>\n",
       "      <td>10000.0</td>\n",
       "      <td>3.130800</td>\n",
       "      <td>3.098466</td>\n",
       "      <td>0.016497</td>\n",
       "      <td>3.163134</td>\n",
       "    </tr>\n",
       "  </tbody>\n",
       "</table>\n",
       "</div>"
      ],
      "text/plain": [
       "    CI_estimate_gap        N  estimate     lower        se     upper\n",
       "0          0.203806   1000.0  3.140000  3.038097  0.051991  3.241903\n",
       "1          0.169383   1500.0  3.096000  3.011308  0.043210  3.180692\n",
       "2          0.143955   2000.0  3.142000  3.070023  0.036723  3.213977\n",
       "3          0.128729   2500.0  3.142400  3.078036  0.032839  3.206764\n",
       "4          0.116690   3000.0  3.158667  3.100322  0.029768  3.217012\n",
       "5          0.108874   3500.0  3.140571  3.086135  0.027774  3.195008\n",
       "6          0.100099   4000.0  3.180000  3.129950  0.025536  3.230050\n",
       "7          0.093934   4500.0  3.190222  3.143255  0.023963  3.237189\n",
       "8          0.091170   5000.0  3.138400  3.092815  0.023258  3.183985\n",
       "9          0.085960   5500.0  3.164364  3.121384  0.021929  3.207344\n",
       "10         0.082022   6000.0  3.172000  3.130989  0.020924  3.213011\n",
       "11         0.080102   6500.0  3.134154  3.094103  0.020434  3.174205\n",
       "12         0.077257   7000.0  3.132000  3.093371  0.019708  3.170629\n",
       "13         0.074446   7500.0  3.138133  3.100910  0.018991  3.175356\n",
       "14         0.072176   8000.0  3.135000  3.098912  0.018412  3.171088\n",
       "15         0.070102   8500.0  3.132235  3.097184  0.017883  3.167286\n",
       "16         0.068620   9000.0  3.114667  3.080357  0.017505  3.148976\n",
       "17         0.065661   9500.0  3.155368  3.122538  0.016750  3.188199\n",
       "18         0.064669  10000.0  3.130800  3.098466  0.016497  3.163134"
      ]
     },
     "execution_count": 9,
     "metadata": {},
     "output_type": "execute_result"
    }
   ],
   "source": [
    "results = pd.DataFrame()\n",
    "\n",
    "for n in range(1000, 10001, 500):\n",
    "    pi_est, pi_est_se, upper_95, lower_95 = estimatepi(n)\n",
    "    results = results.append({'N': n, 'estimate': pi_est, 'se': pi_est_se,\n",
    "                              'upper': upper_95, 'lower': lower_95,\n",
    "                              'CI_estimate_gap': upper_95 - lower_95}, \n",
    "                             ignore_index=True)\n",
    "\n",
    "results"
   ]
  },
  {
   "cell_type": "markdown",
   "id": "4506b379",
   "metadata": {},
   "source": [
    "Looking at the above table, the minimum value of N that fulfils the estimate of pi within 0.1 of the true value is 1500. The estimate at N=2000 is 3.142, which is within a 0.1 range of true pi value 3.14159. Additionally, at N=2000 it satisfies the criteria that the confidence interval gap is wtihin 0.1 above and below the true value of pi."
   ]
  },
  {
   "cell_type": "markdown",
   "id": "b2e59d6b",
   "metadata": {},
   "source": [
    "## Part D\n",
    "#### Using the value of N you determined in part c), run estimatepi 500 times and collect 500 different estimates of π. Produce a histogram of the estimates and note the shape of this distribution."
   ]
  },
  {
   "cell_type": "code",
   "execution_count": 29,
   "id": "94c330b4",
   "metadata": {},
   "outputs": [
    {
     "data": {
      "image/png": "[encoded data removed]",
      "text/plain": [
       "<Figure size 432x288 with 1 Axes>"
      ]
     },
     "metadata": {
      "needs_background": "light"
     },
     "output_type": "display_data"
    }
   ],
   "source": [
    "pi_estimates = [estimatepi(2000)[0] for _ in range(500)]\n",
    "sns.histplot(pi_estimates, kde=True, color='orange')\n",
    "plt.show()"
   ]
  },
  {
   "cell_type": "markdown",
   "id": "fec17f29",
   "metadata": {},
   "source": [
    "#### Calculate the standard deviation of the estimates – does it match the standard error you obtained in part c)?"
   ]
  },
  {
   "cell_type": "code",
   "execution_count": 17,
   "id": "26b057ac",
   "metadata": {},
   "outputs": [
    {
     "name": "stdout",
     "output_type": "stream",
     "text": [
      "Standard Deviation of Estimates: 0.03752732636359807\n"
     ]
    }
   ],
   "source": [
    "Est_sd = np.std(pi_estimates)\n",
    "print(\"Standard Deviation of Estimates:\", Est_sd)"
   ]
  },
  {
   "cell_type": "markdown",
   "id": "01a17233",
   "metadata": {},
   "source": [
    "The standard error for the single run in part C was 0.036723, while the output from 500 estimates was 0.037527. This is a very small absolute value difference of 0.000804"
   ]
  },
  {
   "cell_type": "markdown",
   "id": "b416a184",
   "metadata": {},
   "source": [
    "#### What percentage of the estimates lies within the 95% CI you obtained in part c)?"
   ]
  },
  {
   "cell_type": "code",
   "execution_count": 18,
   "id": "bffceab4",
   "metadata": {},
   "outputs": [
    {
     "name": "stdout",
     "output_type": "stream",
     "text": [
      "Percentage within 95% CI for N=2000: 93.0 %\n"
     ]
    }
   ],
   "source": [
    "ci2000 = results[results['N'] == 2000]\n",
    "within_ci = sum((np.array(pi_estimates) > ci2000['lower'].values[0]) & \n",
    "                (np.array(pi_estimates) < ci2000['upper'].values[0])) / len(pi_estimates)\n",
    "print(\"Percentage within 95% CI for N=2000:\", within_ci * 100, \"%\")"
   ]
  },
  {
   "cell_type": "markdown",
   "id": "7eb5556c",
   "metadata": {},
   "source": [
    "# Question 2\n",
    "#### A salesperson in a large bicycle shop is paid a bonus if he sells more than 4 bicycles a day.  The probability of selling more than 4 bicycles a day is only 0.40.  If the number of bicycles sold is greater than 4, the distribution of sales as shown below.  The shop has four different models of bicycles.  The amount of the bonus paid out varies by type.  The bonus for model A is $10; 40% of the bicycles sold are of this type.  Model B accounts for 35% of the sales and pays a bonus of $15.  Model C has a bonus rating of $20 and makes up 20% of the sales.  Finally, a model D pays a bonus of $25 for each sale but accounts for only 5% of the sales.  Develop a simulation model to calculate the bonus a salesperson can expect in a day."
   ]
  },
  {
   "cell_type": "code",
   "execution_count": 24,
   "id": "b6499676",
   "metadata": {},
   "outputs": [
    {
     "name": "stdout",
     "output_type": "stream",
     "text": [
      "Expected daily bonus: $33.82\n"
     ]
    }
   ],
   "source": [
    "def simulate_daily_bonus():\n",
    "    if np.random.random() > 0.40:\n",
    "        return 0  \n",
    "    bicycles_sold = np.random.choice([5, 6, 7, 8], p=[0.35, 0.45, 0.15, 0.05])\n",
    "    \n",
    "    bonus_mapping = {'A': 10, 'B': 15, 'C': 20, 'D': 25}\n",
    "    \n",
    "    model_probabilities = [0.40, 0.35, 0.20, 0.05]\n",
    "    models = ['A', 'B', 'C', 'D']\n",
    "\n",
    "    total_bonus = sum(bonus_mapping[np.random.choice(models, p=model_probabilities)] for _ in range(bicycles_sold))\n",
    "\n",
    "    return total_bonus\n",
    "\n",
    "num_days = 10000 #Nothing like 25+ years of simulated days \n",
    "average_bonus = sum(simulate_daily_bonus() for _ in range(num_days)) / num_days\n",
    "print(f\"Expected daily bonus: ${average_bonus:.2f}\")"
   ]
  },
  {
   "cell_type": "markdown",
   "id": "bf0c5e8b",
   "metadata": {},
   "source": [
    "This model does not accurately simnulate the sale of bicycles in a given day since it is based on checking whether 4 bicycles are sold. Can result in overestimations it seems"
   ]
  },
  {
   "cell_type": "code",
   "execution_count": 25,
   "id": "a9f1fdf1",
   "metadata": {},
   "outputs": [
    {
     "name": "stdout",
     "output_type": "stream",
     "text": [
      "Expected daily bonus: $33.40\n"
     ]
    }
   ],
   "source": [
    "np.random.seed(4901) #for reproducibility \n",
    "\n",
    "prob_bicycles = [1 - 0.40, 0.4 * 0.35, 0.4 * 0.45, 0.4 * 0.15, 0.4 * 0.05]\n",
    "\n",
    "bicycles_sold = np.random.choice([0, 5, 6, 7, 8], size=10000, p=prob_bicycles)\n",
    "\n",
    "bonus_values = [10, 15, 20, 25]\n",
    "model_probabilities = [0.4, 0.35, 0.2, 0.05]\n",
    "\n",
    "total_bonus = 0\n",
    "\n",
    "for bicycles in bicycles_sold:\n",
    "    if bicycles > 0:\n",
    "        daily_bonus = np.random.choice(bonus_values, size=bicycles, p=model_probabilities)\n",
    "        total_bonus += daily_bonus.sum()\n",
    "\n",
    "expected_bonus = total_bonus / 10000\n",
    "print(f\"Expected daily bonus: ${expected_bonus:.2f}\")\n"
   ]
  },
  {
   "cell_type": "markdown",
   "id": "c38e1de3",
   "metadata": {},
   "source": [
    "# Question 3\n",
    "#### Michael is 24 years old and has a 401(k) plan through his employer, a large financial institution.  His company matches 50% of his contributions up to 6% of his salary.  He currently contributes the maximum amount he can (i.e., 6%).  In his 401(k), he has three funds.  Investment A is a large-cap index fund, which has had an average annual growth over the past 10 years of 6.63% with a standard deviation of 13.46%.  Investment B is a mid-cap index fund with a 10-year average annual growth of 9.89% and a standard deviation of 15.28%.  Finally, Investment C is a small-cap Index fund with a 10-year average annual growth rate of 8.55% and a standard deviation of 16.90%.  Fifty percent of his contribution is directed to Investment A, 25% to Investment B, and 25% to Investment C.  His current salary is $48,000 and based on a compensation survey of financial institutions, he expects an average raise of 2.7% with a standard deviation of 0.4% each year.  Develop a simulation model to predict his 401(k) balance at age 60."
   ]
  },
  {
   "cell_type": "code",
   "execution_count": 28,
   "id": "eb8fa536",
   "metadata": {},
   "outputs": [
    {
     "name": "stdout",
     "output_type": "stream",
     "text": [
      "Michael's projected 401(k) balance at age 60: $280,603.08\n"
     ]
    }
   ],
   "source": [
    "np.random.seed(405) #reproducibility \n",
    "\n",
    "# Michael conditions\n",
    "age_now = 24\n",
    "age_retire = 60\n",
    "salary = 48000\n",
    "\n",
    "# Problem Params\n",
    "contribution_rate = 0.06  # 6%\n",
    "match_rate = 0.50  # Company matches 50%\n",
    "raise_avg = 2.7  # Average raise %\n",
    "raise_std = 0.4  # Standard deviation of raise\n",
    "\n",
    "investments = {\n",
    "    'LargeCap': (50, 6.63, 13.46),\n",
    "    'MidCap': (25, 9.89, 15.28),\n",
    "    'SmallCap': (25, 8.55, 16.90)\n",
    "}\n",
    "\n",
    "#Simulation\n",
    "balance = 0\n",
    "for year in range(age_now, age_retire):\n",
    "    # Salary increase\n",
    "    raise_percent = np.random.normal(raise_avg, raise_std) / 100\n",
    "    salary *= (1 + raise_percent)\n",
    "\n",
    "    # Total annual contribution\n",
    "    personal_contribution = salary * contribution_rate\n",
    "    company_contribution = personal_contribution * match_rate\n",
    "    total_contribution = personal_contribution + company_contribution\n",
    "\n",
    "    #Inv growth\n",
    "    for invest_share, growth_mean, growth_std in investments.values():\n",
    "        growth_rate = np.random.normal(growth_mean, growth_std) / 100\n",
    "        invest_amount = total_contribution * (invest_share / 100)\n",
    "        balance += invest_amount * (1 + growth_rate)\n",
    "\n",
    "print(f\"Michael's projected 401(k) balance at age 60: ${balance:,.2f}\")\n"
   ]
  }
 ],
 "metadata": {
  "kernelspec": {
   "display_name": "Python 3",
   "language": "python",
   "name": "python3"
  },
  "language_info": {
   "codemirror_mode": {
    "name": "ipython",
    "version": 3
   },
   "file_extension": ".py",
   "mimetype": "text/x-python",
   "name": "python",
   "nbconvert_exporter": "python",
   "pygments_lexer": "ipython3",
   "version": "3.8.8"
  }
 },
 "nbformat": 4,
 "nbformat_minor": 5
}
