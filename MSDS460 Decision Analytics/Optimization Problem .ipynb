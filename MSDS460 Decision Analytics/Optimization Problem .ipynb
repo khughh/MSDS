{
 "cells": [
  {
   "cell_type": "code",
   "execution_count": 1,
   "id": "1448d70f",
   "metadata": {},
   "outputs": [
    {
     "name": "stdout",
     "output_type": "stream",
     "text": [
      "Problem 1\n",
      "status=Optimal\n",
      "Chairs = 6.0\n",
      "Tables = 3.0\n",
      "Objective = 108.0\n",
      "\n"
     ]
    }
   ],
   "source": [
    "from pulp import LpVariable, LpProblem, LpMaximize, LpStatus, value, LpMinimize\n",
    "\n",
    "# Problem 1\n",
    "# define variables\n",
    "Tables = LpVariable(\"Tables\", 0, None) # Tables>=0\n",
    "Chairs = LpVariable(\"Chairs\", 0, None) # Chairs>=0\n",
    "\n",
    "# defines the problem\n",
    "prob = LpProblem(\"problem\", LpMaximize)\n",
    "# Note, LpMaximize for a maximization problem, \n",
    "# and LpMinimize for a minimization problem\n",
    "\n",
    "# define constraints\n",
    "prob += 2*Tables    +  1*Chairs    <= 12\n",
    "prob += 2*Tables    +  2*Chairs    <= 18\n",
    "# Note, if <= then <=\n",
    "# If >= then >=\n",
    "# If = then ==\n",
    "\n",
    "# define objective function\n",
    "prob += 16*Tables   + 10*Chairs\n",
    "\n",
    "# solve the problem\n",
    "status = prob.solve()\n",
    "print(f\"Problem 1\")\n",
    "print(f\"status={LpStatus[status]}\")\n",
    "\n",
    "# print the results\n",
    "for variable in prob.variables():\n",
    "    print(f\"{variable.name} = {variable.varValue}\")\n",
    "    \n",
    "print(f\"Objective = {value(prob.objective)}\")\n",
    "print(f\"\")\n"
   ]
  },
  {
   "cell_type": "code",
   "execution_count": null,
   "id": "27c2ceef",
   "metadata": {},
   "outputs": [],
   "source": []
  }
 ],
 "metadata": {
  "kernelspec": {
   "display_name": "Python 3",
   "language": "python",
   "name": "python3"
  },
  "language_info": {
   "codemirror_mode": {
    "name": "ipython",
    "version": 3
   },
   "file_extension": ".py",
   "mimetype": "text/x-python",
   "name": "python",
   "nbconvert_exporter": "python",
   "pygments_lexer": "ipython3",
   "version": "3.8.8"
  }
 },
 "nbformat": 4,
 "nbformat_minor": 5
}
