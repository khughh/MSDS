{
 "cells": [
  {
   "cell_type": "code",
   "execution_count": 10,
   "id": "d0625b9d",
   "metadata": {
    "scrolled": true
   },
   "outputs": [
    {
     "name": "stdout",
     "output_type": "stream",
     "text": [
      "x_('Jacksonville',_'Atlanta') = 170.0\n",
      "x_('Jacksonville',_'Columbus') = 40.0\n",
      "x_('Jacksonville',_'Mobile') = 70.0\n",
      "x_('Newark',_'Boston') = 100.0\n",
      "x_('Newark',_'Columbus') = 20.0\n",
      "x_('Newark',_'Richmond') = 80.0\n",
      "Total Cost =  22350.0\n"
     ]
    }
   ],
   "source": [
    "import pulp\n",
    "\n",
    "# Create a linear programming problem\n",
    "prob = pulp.LpProblem(\"BMC_Transportation\", pulp.LpMinimize)\n",
    "\n",
    "# Define decision variables\n",
    "x = pulp.LpVariable.dicts(\"x\", ((i, j) for i in ['Newark', 'Jacksonville'] for j in ['Boston', 'Columbus', 'Atlanta', 'Richmond', 'Mobile']), lowBound=0, cat='Integer')\n",
    "\n",
    "# Updated costs from the given data\n",
    "costs = {\n",
    "    ('Newark', 'Boston'): 30,\n",
    "    ('Newark', 'Columbus'): 80,\n",
    "    ('Newark', 'Atlanta'): 115,\n",
    "    ('Newark', 'Richmond'): 40,\n",
    "    ('Newark', 'Mobile'): 150,\n",
    "    ('Jacksonville', 'Columbus'): 85,\n",
    "    ('Jacksonville', 'Atlanta'): 45,\n",
    "    ('Jacksonville', 'Richmond'): 50,\n",
    "    ('Jacksonville', 'Mobile'): 50\n",
    "}\n",
    "\n",
    "# Define the objective function\n",
    "prob += pulp.lpSum([x[i, j] * costs[i, j] for i, j in x if (i, j) in costs])\n",
    "\n",
    "# Define the constraints\n",
    "\n",
    "# Supply constraints\n",
    "prob += pulp.lpSum([x['Newark', j] for j in ['Boston', 'Columbus', 'Atlanta', 'Richmond', 'Mobile'] if ('Newark', j) in costs]) == 200, \"Supply_Newark\"\n",
    "prob += pulp.lpSum([x['Jacksonville', j] for j in ['Columbus', 'Atlanta', 'Richmond', 'Mobile'] if ('Jacksonville', j) in costs]) == 300, \"Supply_Jacksonville\"\n",
    "\n",
    "# Demand constraints\n",
    "prob += pulp.lpSum([x[i, 'Boston'] for i in ['Newark', 'Jacksonville'] if (i, 'Boston') in costs]) == 100, \"Demand_Boston\"\n",
    "prob += x['Newark', 'Columbus'] == 20, \"Enforced_Newark_to_Columbus\"\n",
    "prob += x['Jacksonville', 'Columbus'] == 40, \"Enforced_Jacksonville_to_Columbus\"\n",
    "prob += pulp.lpSum([x[i, 'Atlanta'] for i in ['Newark', 'Jacksonville'] if (i, 'Atlanta') in costs]) == 170, \"Demand_Atlanta\"\n",
    "prob += pulp.lpSum([x[i, 'Richmond'] for i in ['Newark', 'Jacksonville'] if (i, 'Richmond') in costs]) == 80, \"Demand_Richmond\"\n",
    "prob += pulp.lpSum([x[i, 'Mobile'] for i in ['Newark', 'Jacksonville'] if (i, 'Mobile') in costs]) == 70, \"Demand_Mobile\"\n",
    "\n",
    "# Solve the problem\n",
    "prob.solve()\n",
    "\n",
    "# Display the solution\n",
    "for v in prob.variables():\n",
    "    if v.varValue > 0:  # Only print non-zero decisions for clarity\n",
    "        print(v.name, \"=\", v.varValue)\n",
    "\n",
    "# Display the minimized cost\n",
    "print(\"Total Cost = \", pulp.value(prob.objective))\n"
   ]
  },
  {
   "cell_type": "code",
   "execution_count": 12,
   "id": "8bd7089d",
   "metadata": {},
   "outputs": [
    {
     "name": "stdout",
     "output_type": "stream",
     "text": [
      "Shadow Prices/Dual Values:\n",
      "Supply_Newark: -10.0\n",
      "Supply_Jacksonville: 0.0\n",
      "Demand_Boston: 40.0\n",
      "Enforced_Newark_to_Columbus: 90.0\n",
      "Enforced_Jacksonville_to_Columbus: 85.0\n",
      "Demand_Atlanta: 45.0\n",
      "Demand_Richmond: 50.0\n",
      "Demand_Mobile: 50.0\n"
     ]
    }
   ],
   "source": [
    "print(\"Shadow Prices/Dual Values:\")\n",
    "for name, constraint in prob.constraints.items():\n",
    "    print(f\"{name}: {constraint.pi}\")\n"
   ]
  },
  {
   "cell_type": "code",
   "execution_count": 13,
   "id": "e3525563",
   "metadata": {},
   "outputs": [
    {
     "name": "stdout",
     "output_type": "stream",
     "text": [
      "\n",
      "Slack Values:\n",
      "Supply_Newark: -0.0\n",
      "Supply_Jacksonville: 20.0\n",
      "Demand_Boston: -0.0\n",
      "Enforced_Newark_to_Columbus: -0.0\n",
      "Enforced_Jacksonville_to_Columbus: -0.0\n",
      "Demand_Atlanta: -0.0\n",
      "Demand_Richmond: -0.0\n",
      "Demand_Mobile: -0.0\n"
     ]
    }
   ],
   "source": [
    "print(\"\\nSlack Values:\")\n",
    "for name, constraint in prob.constraints.items():\n",
    "    print(f\"{name}: {constraint.slack}\")\n"
   ]
  },
  {
   "cell_type": "code",
   "execution_count": null,
   "id": "331205f6",
   "metadata": {},
   "outputs": [],
   "source": []
  }
 ],
 "metadata": {
  "kernelspec": {
   "display_name": "Python 3",
   "language": "python",
   "name": "python3"
  },
  "language_info": {
   "codemirror_mode": {
    "name": "ipython",
    "version": 3
   },
   "file_extension": ".py",
   "mimetype": "text/x-python",
   "name": "python",
   "nbconvert_exporter": "python",
   "pygments_lexer": "ipython3",
   "version": "3.8.8"
  }
 },
 "nbformat": 4,
 "nbformat_minor": 5
}
