{
 "cells": [
  {
   "cell_type": "markdown",
   "id": "7df247cb",
   "metadata": {},
   "source": [
    "# Module 7: Digit Recognizer"
   ]
  },
  {
   "cell_type": "code",
   "execution_count": 17,
   "id": "5a1018eb",
   "metadata": {},
   "outputs": [
    {
     "name": "stderr",
     "output_type": "stream",
     "text": [
      "2023-11-14 14:35:00.944190: I tensorflow/core/platform/cpu_feature_guard.cc:182] This TensorFlow binary is optimized to use available CPU instructions in performance-critical operations.\n",
      "To enable the following instructions: SSE4.1 SSE4.2, in other operations, rebuild TensorFlow with the appropriate compiler flags.\n"
     ]
    },
    {
     "name": "stdout",
     "output_type": "stream",
     "text": [
      "2.12.0\n"
     ]
    }
   ],
   "source": []
  },
  {
   "cell_type": "code",
   "execution_count": 22,
   "id": "8a77472a",
   "metadata": {},
   "outputs": [],
   "source": [
    "# Packages\n",
    "import numpy as np\n",
    "import pandas as pd\n",
    "import matplotlib.pyplot as plt\n",
    "import seaborn as sns\n",
    "from sklearn.model_selection import train_test_split\n",
    "from sklearn.preprocessing import MinMaxScaler\n",
    "from sklearn.metrics import confusion_matrix\n",
    "\n",
    "import tensorflow as tf\n",
    "from tensorflow.keras.models import Sequential\n",
    "from tensorflow.keras.layers import Dense\n",
    "\n",
    "from datetime import datetime"
   ]
  },
  {
   "cell_type": "code",
   "execution_count": 3,
   "id": "b5f93545",
   "metadata": {},
   "outputs": [],
   "source": [
    "#Import data\n",
    "train_df = pd.read_csv('digittrain-2.csv')\n",
    "test_df = pd.read_csv('digittest.csv')\n"
   ]
  },
  {
   "cell_type": "markdown",
   "id": "a5c2ae1d",
   "metadata": {},
   "source": [
    "# Further EDA"
   ]
  },
  {
   "cell_type": "code",
   "execution_count": 4,
   "id": "8141e451",
   "metadata": {},
   "outputs": [
    {
     "data": {
      "text/html": [
       "<div>\n",
       "<style scoped>\n",
       "    .dataframe tbody tr th:only-of-type {\n",
       "        vertical-align: middle;\n",
       "    }\n",
       "\n",
       "    .dataframe tbody tr th {\n",
       "        vertical-align: top;\n",
       "    }\n",
       "\n",
       "    .dataframe thead th {\n",
       "        text-align: right;\n",
       "    }\n",
       "</style>\n",
       "<table border=\"1\" class=\"dataframe\">\n",
       "  <thead>\n",
       "    <tr style=\"text-align: right;\">\n",
       "      <th></th>\n",
       "      <th>label</th>\n",
       "      <th>pixel0</th>\n",
       "      <th>pixel1</th>\n",
       "      <th>pixel2</th>\n",
       "      <th>pixel3</th>\n",
       "      <th>pixel4</th>\n",
       "      <th>pixel5</th>\n",
       "      <th>pixel6</th>\n",
       "      <th>pixel7</th>\n",
       "      <th>pixel8</th>\n",
       "      <th>...</th>\n",
       "      <th>pixel774</th>\n",
       "      <th>pixel775</th>\n",
       "      <th>pixel776</th>\n",
       "      <th>pixel777</th>\n",
       "      <th>pixel778</th>\n",
       "      <th>pixel779</th>\n",
       "      <th>pixel780</th>\n",
       "      <th>pixel781</th>\n",
       "      <th>pixel782</th>\n",
       "      <th>pixel783</th>\n",
       "    </tr>\n",
       "  </thead>\n",
       "  <tbody>\n",
       "    <tr>\n",
       "      <th>0</th>\n",
       "      <td>1</td>\n",
       "      <td>0</td>\n",
       "      <td>0</td>\n",
       "      <td>0</td>\n",
       "      <td>0</td>\n",
       "      <td>0</td>\n",
       "      <td>0</td>\n",
       "      <td>0</td>\n",
       "      <td>0</td>\n",
       "      <td>0</td>\n",
       "      <td>...</td>\n",
       "      <td>0</td>\n",
       "      <td>0</td>\n",
       "      <td>0</td>\n",
       "      <td>0</td>\n",
       "      <td>0</td>\n",
       "      <td>0</td>\n",
       "      <td>0</td>\n",
       "      <td>0</td>\n",
       "      <td>0</td>\n",
       "      <td>0</td>\n",
       "    </tr>\n",
       "    <tr>\n",
       "      <th>1</th>\n",
       "      <td>0</td>\n",
       "      <td>0</td>\n",
       "      <td>0</td>\n",
       "      <td>0</td>\n",
       "      <td>0</td>\n",
       "      <td>0</td>\n",
       "      <td>0</td>\n",
       "      <td>0</td>\n",
       "      <td>0</td>\n",
       "      <td>0</td>\n",
       "      <td>...</td>\n",
       "      <td>0</td>\n",
       "      <td>0</td>\n",
       "      <td>0</td>\n",
       "      <td>0</td>\n",
       "      <td>0</td>\n",
       "      <td>0</td>\n",
       "      <td>0</td>\n",
       "      <td>0</td>\n",
       "      <td>0</td>\n",
       "      <td>0</td>\n",
       "    </tr>\n",
       "    <tr>\n",
       "      <th>2</th>\n",
       "      <td>1</td>\n",
       "      <td>0</td>\n",
       "      <td>0</td>\n",
       "      <td>0</td>\n",
       "      <td>0</td>\n",
       "      <td>0</td>\n",
       "      <td>0</td>\n",
       "      <td>0</td>\n",
       "      <td>0</td>\n",
       "      <td>0</td>\n",
       "      <td>...</td>\n",
       "      <td>0</td>\n",
       "      <td>0</td>\n",
       "      <td>0</td>\n",
       "      <td>0</td>\n",
       "      <td>0</td>\n",
       "      <td>0</td>\n",
       "      <td>0</td>\n",
       "      <td>0</td>\n",
       "      <td>0</td>\n",
       "      <td>0</td>\n",
       "    </tr>\n",
       "    <tr>\n",
       "      <th>3</th>\n",
       "      <td>4</td>\n",
       "      <td>0</td>\n",
       "      <td>0</td>\n",
       "      <td>0</td>\n",
       "      <td>0</td>\n",
       "      <td>0</td>\n",
       "      <td>0</td>\n",
       "      <td>0</td>\n",
       "      <td>0</td>\n",
       "      <td>0</td>\n",
       "      <td>...</td>\n",
       "      <td>0</td>\n",
       "      <td>0</td>\n",
       "      <td>0</td>\n",
       "      <td>0</td>\n",
       "      <td>0</td>\n",
       "      <td>0</td>\n",
       "      <td>0</td>\n",
       "      <td>0</td>\n",
       "      <td>0</td>\n",
       "      <td>0</td>\n",
       "    </tr>\n",
       "    <tr>\n",
       "      <th>4</th>\n",
       "      <td>0</td>\n",
       "      <td>0</td>\n",
       "      <td>0</td>\n",
       "      <td>0</td>\n",
       "      <td>0</td>\n",
       "      <td>0</td>\n",
       "      <td>0</td>\n",
       "      <td>0</td>\n",
       "      <td>0</td>\n",
       "      <td>0</td>\n",
       "      <td>...</td>\n",
       "      <td>0</td>\n",
       "      <td>0</td>\n",
       "      <td>0</td>\n",
       "      <td>0</td>\n",
       "      <td>0</td>\n",
       "      <td>0</td>\n",
       "      <td>0</td>\n",
       "      <td>0</td>\n",
       "      <td>0</td>\n",
       "      <td>0</td>\n",
       "    </tr>\n",
       "  </tbody>\n",
       "</table>\n",
       "<p>5 rows × 785 columns</p>\n",
       "</div>"
      ],
      "text/plain": [
       "   label  pixel0  pixel1  pixel2  pixel3  pixel4  pixel5  pixel6  pixel7  \\\n",
       "0      1       0       0       0       0       0       0       0       0   \n",
       "1      0       0       0       0       0       0       0       0       0   \n",
       "2      1       0       0       0       0       0       0       0       0   \n",
       "3      4       0       0       0       0       0       0       0       0   \n",
       "4      0       0       0       0       0       0       0       0       0   \n",
       "\n",
       "   pixel8  ...  pixel774  pixel775  pixel776  pixel777  pixel778  pixel779  \\\n",
       "0       0  ...         0         0         0         0         0         0   \n",
       "1       0  ...         0         0         0         0         0         0   \n",
       "2       0  ...         0         0         0         0         0         0   \n",
       "3       0  ...         0         0         0         0         0         0   \n",
       "4       0  ...         0         0         0         0         0         0   \n",
       "\n",
       "   pixel780  pixel781  pixel782  pixel783  \n",
       "0         0         0         0         0  \n",
       "1         0         0         0         0  \n",
       "2         0         0         0         0  \n",
       "3         0         0         0         0  \n",
       "4         0         0         0         0  \n",
       "\n",
       "[5 rows x 785 columns]"
      ]
     },
     "execution_count": 4,
     "metadata": {},
     "output_type": "execute_result"
    }
   ],
   "source": [
    "train_df.head()"
   ]
  },
  {
   "cell_type": "code",
   "execution_count": 5,
   "id": "32744294",
   "metadata": {},
   "outputs": [
    {
     "data": {
      "text/html": [
       "<div>\n",
       "<style scoped>\n",
       "    .dataframe tbody tr th:only-of-type {\n",
       "        vertical-align: middle;\n",
       "    }\n",
       "\n",
       "    .dataframe tbody tr th {\n",
       "        vertical-align: top;\n",
       "    }\n",
       "\n",
       "    .dataframe thead th {\n",
       "        text-align: right;\n",
       "    }\n",
       "</style>\n",
       "<table border=\"1\" class=\"dataframe\">\n",
       "  <thead>\n",
       "    <tr style=\"text-align: right;\">\n",
       "      <th></th>\n",
       "      <th>label</th>\n",
       "      <th>pixel0</th>\n",
       "      <th>pixel1</th>\n",
       "      <th>pixel2</th>\n",
       "      <th>pixel3</th>\n",
       "      <th>pixel4</th>\n",
       "      <th>pixel5</th>\n",
       "      <th>pixel6</th>\n",
       "      <th>pixel7</th>\n",
       "      <th>pixel8</th>\n",
       "      <th>...</th>\n",
       "      <th>pixel774</th>\n",
       "      <th>pixel775</th>\n",
       "      <th>pixel776</th>\n",
       "      <th>pixel777</th>\n",
       "      <th>pixel778</th>\n",
       "      <th>pixel779</th>\n",
       "      <th>pixel780</th>\n",
       "      <th>pixel781</th>\n",
       "      <th>pixel782</th>\n",
       "      <th>pixel783</th>\n",
       "    </tr>\n",
       "  </thead>\n",
       "  <tbody>\n",
       "    <tr>\n",
       "      <th>41995</th>\n",
       "      <td>0</td>\n",
       "      <td>0</td>\n",
       "      <td>0</td>\n",
       "      <td>0</td>\n",
       "      <td>0</td>\n",
       "      <td>0</td>\n",
       "      <td>0</td>\n",
       "      <td>0</td>\n",
       "      <td>0</td>\n",
       "      <td>0</td>\n",
       "      <td>...</td>\n",
       "      <td>0</td>\n",
       "      <td>0</td>\n",
       "      <td>0</td>\n",
       "      <td>0</td>\n",
       "      <td>0</td>\n",
       "      <td>0</td>\n",
       "      <td>0</td>\n",
       "      <td>0</td>\n",
       "      <td>0</td>\n",
       "      <td>0</td>\n",
       "    </tr>\n",
       "    <tr>\n",
       "      <th>41996</th>\n",
       "      <td>1</td>\n",
       "      <td>0</td>\n",
       "      <td>0</td>\n",
       "      <td>0</td>\n",
       "      <td>0</td>\n",
       "      <td>0</td>\n",
       "      <td>0</td>\n",
       "      <td>0</td>\n",
       "      <td>0</td>\n",
       "      <td>0</td>\n",
       "      <td>...</td>\n",
       "      <td>0</td>\n",
       "      <td>0</td>\n",
       "      <td>0</td>\n",
       "      <td>0</td>\n",
       "      <td>0</td>\n",
       "      <td>0</td>\n",
       "      <td>0</td>\n",
       "      <td>0</td>\n",
       "      <td>0</td>\n",
       "      <td>0</td>\n",
       "    </tr>\n",
       "    <tr>\n",
       "      <th>41997</th>\n",
       "      <td>7</td>\n",
       "      <td>0</td>\n",
       "      <td>0</td>\n",
       "      <td>0</td>\n",
       "      <td>0</td>\n",
       "      <td>0</td>\n",
       "      <td>0</td>\n",
       "      <td>0</td>\n",
       "      <td>0</td>\n",
       "      <td>0</td>\n",
       "      <td>...</td>\n",
       "      <td>0</td>\n",
       "      <td>0</td>\n",
       "      <td>0</td>\n",
       "      <td>0</td>\n",
       "      <td>0</td>\n",
       "      <td>0</td>\n",
       "      <td>0</td>\n",
       "      <td>0</td>\n",
       "      <td>0</td>\n",
       "      <td>0</td>\n",
       "    </tr>\n",
       "    <tr>\n",
       "      <th>41998</th>\n",
       "      <td>6</td>\n",
       "      <td>0</td>\n",
       "      <td>0</td>\n",
       "      <td>0</td>\n",
       "      <td>0</td>\n",
       "      <td>0</td>\n",
       "      <td>0</td>\n",
       "      <td>0</td>\n",
       "      <td>0</td>\n",
       "      <td>0</td>\n",
       "      <td>...</td>\n",
       "      <td>0</td>\n",
       "      <td>0</td>\n",
       "      <td>0</td>\n",
       "      <td>0</td>\n",
       "      <td>0</td>\n",
       "      <td>0</td>\n",
       "      <td>0</td>\n",
       "      <td>0</td>\n",
       "      <td>0</td>\n",
       "      <td>0</td>\n",
       "    </tr>\n",
       "    <tr>\n",
       "      <th>41999</th>\n",
       "      <td>9</td>\n",
       "      <td>0</td>\n",
       "      <td>0</td>\n",
       "      <td>0</td>\n",
       "      <td>0</td>\n",
       "      <td>0</td>\n",
       "      <td>0</td>\n",
       "      <td>0</td>\n",
       "      <td>0</td>\n",
       "      <td>0</td>\n",
       "      <td>...</td>\n",
       "      <td>0</td>\n",
       "      <td>0</td>\n",
       "      <td>0</td>\n",
       "      <td>0</td>\n",
       "      <td>0</td>\n",
       "      <td>0</td>\n",
       "      <td>0</td>\n",
       "      <td>0</td>\n",
       "      <td>0</td>\n",
       "      <td>0</td>\n",
       "    </tr>\n",
       "  </tbody>\n",
       "</table>\n",
       "<p>5 rows × 785 columns</p>\n",
       "</div>"
      ],
      "text/plain": [
       "       label  pixel0  pixel1  pixel2  pixel3  pixel4  pixel5  pixel6  pixel7  \\\n",
       "41995      0       0       0       0       0       0       0       0       0   \n",
       "41996      1       0       0       0       0       0       0       0       0   \n",
       "41997      7       0       0       0       0       0       0       0       0   \n",
       "41998      6       0       0       0       0       0       0       0       0   \n",
       "41999      9       0       0       0       0       0       0       0       0   \n",
       "\n",
       "       pixel8  ...  pixel774  pixel775  pixel776  pixel777  pixel778  \\\n",
       "41995       0  ...         0         0         0         0         0   \n",
       "41996       0  ...         0         0         0         0         0   \n",
       "41997       0  ...         0         0         0         0         0   \n",
       "41998       0  ...         0         0         0         0         0   \n",
       "41999       0  ...         0         0         0         0         0   \n",
       "\n",
       "       pixel779  pixel780  pixel781  pixel782  pixel783  \n",
       "41995         0         0         0         0         0  \n",
       "41996         0         0         0         0         0  \n",
       "41997         0         0         0         0         0  \n",
       "41998         0         0         0         0         0  \n",
       "41999         0         0         0         0         0  \n",
       "\n",
       "[5 rows x 785 columns]"
      ]
     },
     "execution_count": 5,
     "metadata": {},
     "output_type": "execute_result"
    }
   ],
   "source": [
    "train_df.tail()"
   ]
  },
  {
   "cell_type": "code",
   "execution_count": 6,
   "id": "34fe5dfc",
   "metadata": {},
   "outputs": [
    {
     "name": "stdout",
     "output_type": "stream",
     "text": [
      "<class 'pandas.core.frame.DataFrame'>\n",
      "RangeIndex: 42000 entries, 0 to 41999\n",
      "Columns: 785 entries, label to pixel783\n",
      "dtypes: int64(785)\n",
      "memory usage: 251.5 MB\n"
     ]
    }
   ],
   "source": [
    "train_df.info()"
   ]
  },
  {
   "cell_type": "code",
   "execution_count": 7,
   "id": "350c55f0",
   "metadata": {},
   "outputs": [
    {
     "data": {
      "text/plain": [
       "(42000, 785)"
      ]
     },
     "execution_count": 7,
     "metadata": {},
     "output_type": "execute_result"
    }
   ],
   "source": [
    "train_df.shape"
   ]
  },
  {
   "cell_type": "code",
   "execution_count": 8,
   "id": "c17c2e85",
   "metadata": {},
   "outputs": [
    {
     "data": {
      "text/plain": [
       "(28000, 784)"
      ]
     },
     "execution_count": 8,
     "metadata": {},
     "output_type": "execute_result"
    }
   ],
   "source": [
    "test_df.shape"
   ]
  },
  {
   "cell_type": "code",
   "execution_count": 9,
   "id": "698c50ac",
   "metadata": {},
   "outputs": [
    {
     "name": "stdout",
     "output_type": "stream",
     "text": [
      "Columns with null values:\n",
      "Series([], dtype: float64)\n"
     ]
    }
   ],
   "source": [
    "#Check for null although shouldnt be any...\n",
    "columns_with_null = train_df.columns[train_df.isnull().any()]\n",
    "null_values = train_df[columns_with_null].isnull().sum()\n",
    "\n",
    "print(\"Columns with null values:\")\n",
    "print(null_values)"
   ]
  },
  {
   "cell_type": "code",
   "execution_count": 10,
   "id": "253d6634",
   "metadata": {},
   "outputs": [
    {
     "name": "stderr",
     "output_type": "stream",
     "text": [
      "/Users/kevhhu/opt/anaconda3/envs/tf/lib/python3.11/site-packages/seaborn/_oldcore.py:1498: FutureWarning: is_categorical_dtype is deprecated and will be removed in a future version. Use isinstance(dtype, CategoricalDtype) instead\n",
      "  if pd.api.types.is_categorical_dtype(vector):\n",
      "/Users/kevhhu/opt/anaconda3/envs/tf/lib/python3.11/site-packages/seaborn/_oldcore.py:1498: FutureWarning: is_categorical_dtype is deprecated and will be removed in a future version. Use isinstance(dtype, CategoricalDtype) instead\n",
      "  if pd.api.types.is_categorical_dtype(vector):\n",
      "/Users/kevhhu/opt/anaconda3/envs/tf/lib/python3.11/site-packages/seaborn/_oldcore.py:1498: FutureWarning: is_categorical_dtype is deprecated and will be removed in a future version. Use isinstance(dtype, CategoricalDtype) instead\n",
      "  if pd.api.types.is_categorical_dtype(vector):\n"
     ]
    },
    {
     "data": {
      "image/png": "[encoded data removed]",
      "text/plain": [
       "<Figure size 640x480 with 1 Axes>"
      ]
     },
     "metadata": {},
     "output_type": "display_data"
    },
    {
     "name": "stdout",
     "output_type": "stream",
     "text": [
      "label\n",
      "1    4684\n",
      "7    4401\n",
      "3    4351\n",
      "9    4188\n",
      "2    4177\n",
      "6    4137\n",
      "0    4132\n",
      "4    4072\n",
      "8    4063\n",
      "5    3795\n",
      "Name: count, dtype: int64\n"
     ]
    }
   ],
   "source": [
    "X_train = train_df.drop(labels = [\"label\"],axis = 1) \n",
    "y_train = train_df[\"label\"]\n",
    "\n",
    "sns.countplot(x = y_train)\n",
    "plt.show()\n",
    "\n",
    "print(y_train.value_counts())"
   ]
  },
  {
   "cell_type": "code",
   "execution_count": 51,
   "id": "c3502401",
   "metadata": {},
   "outputs": [
    {
     "name": "stdout",
     "output_type": "stream",
     "text": [
      "Corresponding handwritten digits matched below: [4 0 0 7 3 4 7 1 8 4 7 8 5 8 5 6]\n"
     ]
    },
    {
     "name": "stderr",
     "output_type": "stream",
     "text": [
      "/var/folders/71/kt3th06j0w36j864cy126bwm0000gn/T/ipykernel_4633/2790828296.py:13: SettingWithCopyWarning: \n",
      "A value is trying to be set on a copy of a slice from a DataFrame\n",
      "\n",
      "See the caveats in the documentation: https://pandas.pydata.org/pandas-docs/stable/user_guide/indexing.html#returning-a-view-versus-a-copy\n",
      "  subset_images.drop(columns=['label'], inplace=True)\n"
     ]
    },
    {
     "data": {
      "image/png": "[encoded data removed]",
      "text/plain": [
       "<Figure size 1600x400 with 16 Axes>"
      ]
     },
     "metadata": {},
     "output_type": "display_data"
    }
   ],
   "source": [
    "def display_digits(N, df):\n",
    "    \n",
    "    N = min(N, df.shape[0])\n",
    "\n",
    "    # Randomly pick N images\n",
    "    images = np.random.choice(df.index, size=N, replace=False)\n",
    "    \n",
    "    #Extracting subset of images and labels\n",
    "    subset_images = df.iloc[images]\n",
    "    labels = subset_images['label'].values\n",
    "    print(f\"Corresponding handwritten digits matched below: {labels}\")\n",
    "\n",
    "    subset_images.drop(columns=['label'], inplace=True)\n",
    "\n",
    "    plt.figure(figsize=(16, 4))  \n",
    "\n",
    "    for i, row in enumerate(subset_images.values):\n",
    "        plt.subplot(2, 8, i+1)  \n",
    "        pixels = row.reshape((28, 28))  \n",
    "        plt.imshow(pixels, cmap='gray') \n",
    "        plt.xticks([])  \n",
    "        plt.yticks([])  \n",
    "\n",
    "    plt.tight_layout(rect=[0, 0.03, 1, 0.95])  \n",
    "    plt.show()\n",
    "\n",
    "display_digits(16, train_df)"
   ]
  },
  {
   "cell_type": "markdown",
   "id": "fae4c4d1",
   "metadata": {},
   "source": [
    "# Dataset Formation and Processing"
   ]
  },
  {
   "cell_type": "code",
   "execution_count": 12,
   "id": "6363d5f1",
   "metadata": {},
   "outputs": [],
   "source": [
    "# Reload data \n",
    "train = pd.read_csv('digittrain-2.csv')\n",
    "test = pd.read_csv('digittest.csv')"
   ]
  },
  {
   "cell_type": "code",
   "execution_count": 13,
   "id": "6b97d424",
   "metadata": {},
   "outputs": [],
   "source": [
    "#Separate Data\n",
    "X_train = train.drop(labels=[\"label\"], axis=1)\n",
    "Y_train = train[\"label\"]\n",
    "\n",
    "X_test = test"
   ]
  },
  {
   "cell_type": "code",
   "execution_count": 14,
   "id": "b7dd4a70",
   "metadata": {},
   "outputs": [],
   "source": [
    "# Split into tain and validation set\n",
    "X_train, X_val, Y_train, Y_val = train_test_split(X_train, Y_train, test_size=0.1, random_state=428)"
   ]
  },
  {
   "cell_type": "code",
   "execution_count": 15,
   "id": "06e5f535",
   "metadata": {},
   "outputs": [
    {
     "name": "stderr",
     "output_type": "stream",
     "text": [
      "/Users/kevhhu/opt/anaconda3/envs/tf/lib/python3.11/site-packages/sklearn/utils/validation.py:767: FutureWarning: is_sparse is deprecated and will be removed in a future version. Check `isinstance(dtype, pd.SparseDtype)` instead.\n",
      "  if not hasattr(array, \"sparse\") and array.dtypes.apply(is_sparse).any():\n",
      "/Users/kevhhu/opt/anaconda3/envs/tf/lib/python3.11/site-packages/sklearn/utils/validation.py:605: FutureWarning: is_sparse is deprecated and will be removed in a future version. Check `isinstance(dtype, pd.SparseDtype)` instead.\n",
      "  if is_sparse(pd_dtype):\n",
      "/Users/kevhhu/opt/anaconda3/envs/tf/lib/python3.11/site-packages/sklearn/utils/validation.py:614: FutureWarning: is_sparse is deprecated and will be removed in a future version. Check `isinstance(dtype, pd.SparseDtype)` instead.\n",
      "  if is_sparse(pd_dtype) or not is_extension_array_dtype(pd_dtype):\n",
      "/Users/kevhhu/opt/anaconda3/envs/tf/lib/python3.11/site-packages/sklearn/utils/validation.py:767: FutureWarning: is_sparse is deprecated and will be removed in a future version. Check `isinstance(dtype, pd.SparseDtype)` instead.\n",
      "  if not hasattr(array, \"sparse\") and array.dtypes.apply(is_sparse).any():\n",
      "/Users/kevhhu/opt/anaconda3/envs/tf/lib/python3.11/site-packages/sklearn/utils/validation.py:605: FutureWarning: is_sparse is deprecated and will be removed in a future version. Check `isinstance(dtype, pd.SparseDtype)` instead.\n",
      "  if is_sparse(pd_dtype):\n",
      "/Users/kevhhu/opt/anaconda3/envs/tf/lib/python3.11/site-packages/sklearn/utils/validation.py:614: FutureWarning: is_sparse is deprecated and will be removed in a future version. Check `isinstance(dtype, pd.SparseDtype)` instead.\n",
      "  if is_sparse(pd_dtype) or not is_extension_array_dtype(pd_dtype):\n",
      "/Users/kevhhu/opt/anaconda3/envs/tf/lib/python3.11/site-packages/sklearn/utils/validation.py:767: FutureWarning: is_sparse is deprecated and will be removed in a future version. Check `isinstance(dtype, pd.SparseDtype)` instead.\n",
      "  if not hasattr(array, \"sparse\") and array.dtypes.apply(is_sparse).any():\n",
      "/Users/kevhhu/opt/anaconda3/envs/tf/lib/python3.11/site-packages/sklearn/utils/validation.py:605: FutureWarning: is_sparse is deprecated and will be removed in a future version. Check `isinstance(dtype, pd.SparseDtype)` instead.\n",
      "  if is_sparse(pd_dtype):\n",
      "/Users/kevhhu/opt/anaconda3/envs/tf/lib/python3.11/site-packages/sklearn/utils/validation.py:614: FutureWarning: is_sparse is deprecated and will be removed in a future version. Check `isinstance(dtype, pd.SparseDtype)` instead.\n",
      "  if is_sparse(pd_dtype) or not is_extension_array_dtype(pd_dtype):\n",
      "/Users/kevhhu/opt/anaconda3/envs/tf/lib/python3.11/site-packages/sklearn/utils/validation.py:767: FutureWarning: is_sparse is deprecated and will be removed in a future version. Check `isinstance(dtype, pd.SparseDtype)` instead.\n",
      "  if not hasattr(array, \"sparse\") and array.dtypes.apply(is_sparse).any():\n",
      "/Users/kevhhu/opt/anaconda3/envs/tf/lib/python3.11/site-packages/sklearn/utils/validation.py:605: FutureWarning: is_sparse is deprecated and will be removed in a future version. Check `isinstance(dtype, pd.SparseDtype)` instead.\n",
      "  if is_sparse(pd_dtype):\n",
      "/Users/kevhhu/opt/anaconda3/envs/tf/lib/python3.11/site-packages/sklearn/utils/validation.py:614: FutureWarning: is_sparse is deprecated and will be removed in a future version. Check `isinstance(dtype, pd.SparseDtype)` instead.\n",
      "  if is_sparse(pd_dtype) or not is_extension_array_dtype(pd_dtype):\n"
     ]
    }
   ],
   "source": [
    "# Feature scaling using MinMaxScaler\n",
    "minmax = MinMaxScaler()\n",
    "\n",
    "X_train = minmax.fit_transform(X_train)\n",
    "\n",
    "# Transform validation and test\n",
    "X_val = minmax.transform(X_val)\n",
    "X_test = minmax.transform(X_test)"
   ]
  },
  {
   "cell_type": "code",
   "execution_count": 52,
   "id": "6be7102f",
   "metadata": {},
   "outputs": [],
   "source": [
    "# One-hot encoding\n",
    "keras_Y = tf.keras.utils.to_categorical(Y_train, 10)\n",
    "keras_Y_val = tf.keras.utils.to_categorical(Y_val, 10)\n"
   ]
  },
  {
   "cell_type": "markdown",
   "id": "bd0ea5c0",
   "metadata": {},
   "source": [
    "# Neural Networks Testing\n",
    "The 2x2 completely crossed design will examine four combinations:\n",
    "- 2 layers with 128 nodes\n",
    "- 2 layers with 256 nodes \n",
    "- 4 layers with 128 nodes\n",
    "- 4 layers with 256 nodes"
   ]
  },
  {
   "cell_type": "markdown",
   "id": "05f35f82",
   "metadata": {},
   "source": [
    "## Neural Network 1 : 2 layers and 128 nodes"
   ]
  },
  {
   "cell_type": "code",
   "execution_count": 23,
   "id": "d92a42f1",
   "metadata": {},
   "outputs": [
    {
     "name": "stdout",
     "output_type": "stream",
     "text": [
      "Epoch 1/10\n",
      "1182/1182 [==============================] - 2s 1ms/step - loss: 0.2770 - accuracy: 0.9176 - val_loss: 0.1483 - val_accuracy: 0.9550\n",
      "Epoch 2/10\n",
      "1182/1182 [==============================] - 2s 1ms/step - loss: 0.1117 - accuracy: 0.9656 - val_loss: 0.1061 - val_accuracy: 0.9664\n",
      "Epoch 3/10\n",
      "1182/1182 [==============================] - 2s 2ms/step - loss: 0.0769 - accuracy: 0.9754 - val_loss: 0.1031 - val_accuracy: 0.9681\n",
      "Epoch 4/10\n",
      "1182/1182 [==============================] - 2s 2ms/step - loss: 0.0562 - accuracy: 0.9825 - val_loss: 0.0874 - val_accuracy: 0.9714\n",
      "Epoch 5/10\n",
      "1182/1182 [==============================] - 2s 2ms/step - loss: 0.0414 - accuracy: 0.9867 - val_loss: 0.0982 - val_accuracy: 0.9712\n",
      "Epoch 6/10\n",
      "1182/1182 [==============================] - 2s 1ms/step - loss: 0.0359 - accuracy: 0.9879 - val_loss: 0.0936 - val_accuracy: 0.9729\n",
      "Epoch 7/10\n",
      "1182/1182 [==============================] - 2s 2ms/step - loss: 0.0293 - accuracy: 0.9904 - val_loss: 0.1048 - val_accuracy: 0.9698\n",
      "Epoch 8/10\n",
      "1182/1182 [==============================] - 2s 2ms/step - loss: 0.0216 - accuracy: 0.9929 - val_loss: 0.1094 - val_accuracy: 0.9690\n",
      "Epoch 9/10\n",
      "1182/1182 [==============================] - 2s 1ms/step - loss: 0.0228 - accuracy: 0.9920 - val_loss: 0.1033 - val_accuracy: 0.9712\n",
      "Epoch 10/10\n",
      "1182/1182 [==============================] - 2s 2ms/step - loss: 0.0170 - accuracy: 0.9944 - val_loss: 0.1270 - val_accuracy: 0.9686\n",
      "Training Time: 0:00:19.392189\n",
      "Training Accuracy: 0.9944179654121399\n",
      "Validation Accuracy: 0.9685714244842529\n"
     ]
    }
   ],
   "source": [
    "start_time = datetime.now()\n",
    "\n",
    "# Model architecture\n",
    "model = Sequential()\n",
    "model.add(Dense(128, activation='relu', input_shape=(X_train.shape[1],)))\n",
    "model.add(Dense(128, activation='relu'))\n",
    "model.add(Dense(10, activation='softmax')) \n",
    "\n",
    "model.compile(optimizer='adam', loss='categorical_crossentropy', metrics=['accuracy'])\n",
    "\n",
    "history = model.fit(X_train, keras_Y, epochs=10, validation_data=(X_val, keras_Y_val))\n",
    "end_time = datetime.now()\n",
    "\n",
    "training_time = end_time - start_time\n",
    "print(f\"Training Time: {training_time}\")\n",
    "\n",
    "# Training and validation accuracy\n",
    "train_accuracy = history.history['accuracy'][-1]\n",
    "val_accuracy = history.history['val_accuracy'][-1]\n",
    "print(f\"Training Accuracy: {train_accuracy}\")\n",
    "print(f\"Validation Accuracy: {val_accuracy}\")\n"
   ]
  },
  {
   "cell_type": "code",
   "execution_count": 25,
   "id": "7f82243d",
   "metadata": {
    "scrolled": true
   },
   "outputs": [
    {
     "name": "stdout",
     "output_type": "stream",
     "text": [
      "875/875 [==============================] - 1s 721us/step\n"
     ]
    }
   ],
   "source": [
    "model_pred = model.predict(X_test)\n",
    "predicted_labels = np.argmax(model_pred, axis=1)\n",
    "predicted_labels = pd.Series(predicted_labels, name=\"Label\")\n",
    "\n",
    "submission = pd.concat([pd.Series(range(1, 28001), name=\"ImageId\"), predicted_labels], axis=1)\n",
    "\n",
    "submission.to_csv('model1_Pred.csv', index=False)"
   ]
  },
  {
   "attachments": {
    "Screen%20Shot%202023-11-14%20at%203.14.43%20PM.png": {
     "image/png": "[encoded data removed]"
    }
   },
   "cell_type": "markdown",
   "id": "ca4cc2e6",
   "metadata": {},
   "source": [
    "![Screen%20Shot%202023-11-14%20at%203.14.43%20PM.png](attachment:Screen%20Shot%202023-11-14%20at%203.14.43%20PM.png)"
   ]
  },
  {
   "cell_type": "markdown",
   "id": "ad7428f4",
   "metadata": {},
   "source": [
    "## Neural Network 2: 2 layers and 256 Nodes"
   ]
  },
  {
   "cell_type": "code",
   "execution_count": 26,
   "id": "da72168c",
   "metadata": {},
   "outputs": [
    {
     "name": "stdout",
     "output_type": "stream",
     "text": [
      "Epoch 1/10\n",
      "1182/1182 [==============================] - 3s 2ms/step - loss: 0.2350 - accuracy: 0.9279 - val_loss: 0.1202 - val_accuracy: 0.9621\n",
      "Epoch 2/10\n",
      "1182/1182 [==============================] - 2s 2ms/step - loss: 0.0967 - accuracy: 0.9692 - val_loss: 0.0945 - val_accuracy: 0.9726\n",
      "Epoch 3/10\n",
      "1182/1182 [==============================] - 2s 2ms/step - loss: 0.0615 - accuracy: 0.9804 - val_loss: 0.1009 - val_accuracy: 0.9676\n",
      "Epoch 4/10\n",
      "1182/1182 [==============================] - 2s 2ms/step - loss: 0.0487 - accuracy: 0.9842 - val_loss: 0.1248 - val_accuracy: 0.9631\n",
      "Epoch 5/10\n",
      "1182/1182 [==============================] - 2s 2ms/step - loss: 0.0362 - accuracy: 0.9879 - val_loss: 0.0889 - val_accuracy: 0.9752\n",
      "Epoch 6/10\n",
      "1182/1182 [==============================] - 2s 2ms/step - loss: 0.0298 - accuracy: 0.9905 - val_loss: 0.0948 - val_accuracy: 0.9767\n",
      "Epoch 7/10\n",
      "1182/1182 [==============================] - 2s 2ms/step - loss: 0.0234 - accuracy: 0.9918 - val_loss: 0.1107 - val_accuracy: 0.9731\n",
      "Epoch 8/10\n",
      "1182/1182 [==============================] - 2s 2ms/step - loss: 0.0220 - accuracy: 0.9924 - val_loss: 0.1307 - val_accuracy: 0.9714\n",
      "Epoch 9/10\n",
      "1182/1182 [==============================] - 2s 2ms/step - loss: 0.0207 - accuracy: 0.9930 - val_loss: 0.1021 - val_accuracy: 0.9755\n",
      "Epoch 10/10\n",
      "1182/1182 [==============================] - 2s 2ms/step - loss: 0.0139 - accuracy: 0.9958 - val_loss: 0.1342 - val_accuracy: 0.9717\n",
      "Training Time: 0:00:24.018875\n",
      "Training Accuracy: 0.9958201050758362\n",
      "Validation Accuracy: 0.971666693687439\n"
     ]
    }
   ],
   "source": [
    "start_time = datetime.now()\n",
    "\n",
    "# Model architecture\n",
    "model_2 = Sequential()\n",
    "model_2.add(Dense(256, activation='relu', input_shape=(X_train.shape[1],))) \n",
    "model_2.add(Dense(256, activation='relu'))  \n",
    "model_2.add(Dense(10, activation='softmax'))\n",
    "\n",
    "model_2.compile(optimizer='adam', loss='categorical_crossentropy', metrics=['accuracy'])\n",
    "\n",
    "history_2 = model_2.fit(X_train, keras_Y, epochs=10, validation_data=(X_val, keras_Y_val))\n",
    "\n",
    "end_time = datetime.now()\n",
    "training_time_2 = end_time - start_time\n",
    "print(f\"Training Time: {training_time_2}\")\n",
    "\n",
    "# Training and validation accuracy\n",
    "train_accuracy_2 = history_2.history['accuracy'][-1]\n",
    "val_accuracy_2 = history_2.history['val_accuracy'][-1]\n",
    "print(f\"Training Accuracy: {train_accuracy_2}\")\n",
    "print(f\"Validation Accuracy: {val_accuracy_2}\")"
   ]
  },
  {
   "cell_type": "code",
   "execution_count": 27,
   "id": "198db74d",
   "metadata": {},
   "outputs": [
    {
     "name": "stdout",
     "output_type": "stream",
     "text": [
      "875/875 [==============================] - 1s 682us/step\n"
     ]
    }
   ],
   "source": [
    "model_2_pred = model_2.predict(X_test)\n",
    "predicted_labels_2 = np.argmax(model_2_pred, axis=1)\n",
    "predicted_labels_2 = pd.Series(predicted_labels_2, name=\"Label\")\n",
    "\n",
    "submission_2 = pd.concat([pd.Series(range(1, 28001), name=\"ImageId\"), predicted_labels_2], axis=1)\n",
    "\n",
    "submission_2.to_csv('model2_Pred.csv', index=False)"
   ]
  },
  {
   "attachments": {
    "Screen%20Shot%202023-11-14%20at%203.18.48%20PM.png": {
     "image/png": "[encoded data removed]"
    }
   },
   "cell_type": "markdown",
   "id": "2ac3352d",
   "metadata": {},
   "source": [
    "![Screen%20Shot%202023-11-14%20at%203.18.48%20PM.png](attachment:Screen%20Shot%202023-11-14%20at%203.18.48%20PM.png)"
   ]
  },
  {
   "cell_type": "markdown",
   "id": "655b0d16",
   "metadata": {},
   "source": [
    "### Testing Neural Network 2 with 30 epochs"
   ]
  },
  {
   "cell_type": "code",
   "execution_count": 28,
   "id": "7d08d198",
   "metadata": {},
   "outputs": [
    {
     "name": "stdout",
     "output_type": "stream",
     "text": [
      "Epoch 1/30\n",
      "1182/1182 [==============================] - 3s 2ms/step - loss: 0.2390 - accuracy: 0.9290 - val_loss: 0.1495 - val_accuracy: 0.9524\n",
      "Epoch 2/30\n",
      "1182/1182 [==============================] - 2s 2ms/step - loss: 0.0963 - accuracy: 0.9694 - val_loss: 0.1027 - val_accuracy: 0.9690\n",
      "Epoch 3/30\n",
      "1182/1182 [==============================] - 2s 2ms/step - loss: 0.0635 - accuracy: 0.9798 - val_loss: 0.0799 - val_accuracy: 0.9729\n",
      "Epoch 4/30\n",
      "1182/1182 [==============================] - 2s 2ms/step - loss: 0.0465 - accuracy: 0.9853 - val_loss: 0.0896 - val_accuracy: 0.9717\n",
      "Epoch 5/30\n",
      "1182/1182 [==============================] - 2s 2ms/step - loss: 0.0373 - accuracy: 0.9874 - val_loss: 0.0814 - val_accuracy: 0.9748\n",
      "Epoch 6/30\n",
      "1182/1182 [==============================] - 2s 2ms/step - loss: 0.0281 - accuracy: 0.9906 - val_loss: 0.1056 - val_accuracy: 0.9705\n",
      "Epoch 7/30\n",
      "1182/1182 [==============================] - 2s 2ms/step - loss: 0.0268 - accuracy: 0.9912 - val_loss: 0.0995 - val_accuracy: 0.9724\n",
      "Epoch 8/30\n",
      "1182/1182 [==============================] - 2s 2ms/step - loss: 0.0228 - accuracy: 0.9925 - val_loss: 0.1138 - val_accuracy: 0.9724\n",
      "Epoch 9/30\n",
      "1182/1182 [==============================] - 2s 2ms/step - loss: 0.0197 - accuracy: 0.9934 - val_loss: 0.1021 - val_accuracy: 0.9729\n",
      "Epoch 10/30\n",
      "1182/1182 [==============================] - 2s 2ms/step - loss: 0.0180 - accuracy: 0.9937 - val_loss: 0.1073 - val_accuracy: 0.9731\n",
      "Epoch 11/30\n",
      "1182/1182 [==============================] - 2s 2ms/step - loss: 0.0157 - accuracy: 0.9950 - val_loss: 0.1159 - val_accuracy: 0.9750\n",
      "Epoch 12/30\n",
      "1182/1182 [==============================] - 2s 2ms/step - loss: 0.0169 - accuracy: 0.9940 - val_loss: 0.1172 - val_accuracy: 0.9757\n",
      "Epoch 13/30\n",
      "1182/1182 [==============================] - 2s 2ms/step - loss: 0.0122 - accuracy: 0.9960 - val_loss: 0.1280 - val_accuracy: 0.9740\n",
      "Epoch 14/30\n",
      "1182/1182 [==============================] - 2s 2ms/step - loss: 0.0152 - accuracy: 0.9954 - val_loss: 0.1231 - val_accuracy: 0.9729\n",
      "Epoch 15/30\n",
      "1182/1182 [==============================] - 2s 2ms/step - loss: 0.0125 - accuracy: 0.9962 - val_loss: 0.1125 - val_accuracy: 0.9760\n",
      "Epoch 16/30\n",
      "1182/1182 [==============================] - 2s 2ms/step - loss: 0.0127 - accuracy: 0.9961 - val_loss: 0.1103 - val_accuracy: 0.9781\n",
      "Epoch 17/30\n",
      "1182/1182 [==============================] - 2s 2ms/step - loss: 0.0123 - accuracy: 0.9963 - val_loss: 0.1286 - val_accuracy: 0.9733\n",
      "Epoch 18/30\n",
      "1182/1182 [==============================] - 2s 2ms/step - loss: 0.0086 - accuracy: 0.9972 - val_loss: 0.1397 - val_accuracy: 0.9757\n",
      "Epoch 19/30\n",
      "1182/1182 [==============================] - 2s 2ms/step - loss: 0.0117 - accuracy: 0.9967 - val_loss: 0.1428 - val_accuracy: 0.9779\n",
      "Epoch 20/30\n",
      "1182/1182 [==============================] - 2s 2ms/step - loss: 0.0089 - accuracy: 0.9973 - val_loss: 0.1425 - val_accuracy: 0.9757\n",
      "Epoch 21/30\n",
      "1182/1182 [==============================] - 2s 2ms/step - loss: 0.0132 - accuracy: 0.9964 - val_loss: 0.1532 - val_accuracy: 0.9743\n",
      "Epoch 22/30\n",
      "1182/1182 [==============================] - 2s 2ms/step - loss: 0.0095 - accuracy: 0.9974 - val_loss: 0.2060 - val_accuracy: 0.9690\n",
      "Epoch 23/30\n",
      "1182/1182 [==============================] - 2s 2ms/step - loss: 0.0093 - accuracy: 0.9974 - val_loss: 0.1354 - val_accuracy: 0.9764\n",
      "Epoch 24/30\n",
      "1182/1182 [==============================] - 2s 2ms/step - loss: 0.0053 - accuracy: 0.9985 - val_loss: 0.1448 - val_accuracy: 0.9769\n",
      "Epoch 25/30\n",
      "1182/1182 [==============================] - 2s 2ms/step - loss: 0.0151 - accuracy: 0.9961 - val_loss: 0.1604 - val_accuracy: 0.9750\n",
      "Epoch 26/30\n",
      "1182/1182 [==============================] - 2s 2ms/step - loss: 0.0070 - accuracy: 0.9983 - val_loss: 0.1798 - val_accuracy: 0.9736\n",
      "Epoch 27/30\n",
      "1182/1182 [==============================] - 2s 2ms/step - loss: 0.0084 - accuracy: 0.9976 - val_loss: 0.1748 - val_accuracy: 0.9733\n",
      "Epoch 28/30\n",
      "1182/1182 [==============================] - 2s 2ms/step - loss: 0.0097 - accuracy: 0.9972 - val_loss: 0.1489 - val_accuracy: 0.9769\n",
      "Epoch 29/30\n",
      "1182/1182 [==============================] - 2s 2ms/step - loss: 0.0072 - accuracy: 0.9979 - val_loss: 0.2823 - val_accuracy: 0.9679\n",
      "Epoch 30/30\n",
      "1182/1182 [==============================] - 2s 2ms/step - loss: 0.0088 - accuracy: 0.9975 - val_loss: 0.2194 - val_accuracy: 0.9717\n",
      "Training Time (30 epochs): 0:01:10.668657\n",
      "Training Accuracy (30 epochs): 0.9975396990776062\n",
      "Validation Accuracy (30 epochs): 0.971666693687439\n"
     ]
    }
   ],
   "source": [
    "start_time_v2 = datetime.now()\n",
    "\n",
    "model_2_v2 = Sequential()\n",
    "model_2_v2.add(Dense(256, activation='relu', input_shape=(X_train.shape[1],)))\n",
    "model_2_v2.add(Dense(256, activation='relu'))  \n",
    "model_2_v2.add(Dense(10, activation='softmax'))  \n",
    "\n",
    "model_2_v2.compile(optimizer='adam', loss='categorical_crossentropy', metrics=['accuracy'])\n",
    "\n",
    "#30 epochs\n",
    "history_2_v2 = model_2_v2.fit(X_train, keras_Y, epochs=30, validation_data=(X_val, keras_Y_val))\n",
    "\n",
    "end_time_v2 = datetime.now()\n",
    "\n",
    "training_time_2_v2 = end_time_v2 - start_time_v2\n",
    "print(f\"Training Time (30 epochs): {training_time_2_v2}\")\n",
    "\n",
    "train_accuracy_2_v2 = history_2_v2.history['accuracy'][-1]\n",
    "val_accuracy_2_v2 = history_2_v2.history['val_accuracy'][-1]\n",
    "print(f\"Training Accuracy (30 epochs): {train_accuracy_2_v2}\")\n",
    "print(f\"Validation Accuracy (30 epochs): {val_accuracy_2_v2}\")"
   ]
  },
  {
   "cell_type": "markdown",
   "id": "adb48467",
   "metadata": {},
   "source": [
    "Looking at the differences between 10 epochs and 30 epochs, there was no change in scoring of the validation accuracy between the two. However, when increasing the epochs there is potential for overfitting to the training data. This appears to be the case since there is no change in validation accuracy but an increase in training accuracy. "
   ]
  },
  {
   "cell_type": "markdown",
   "id": "edfa8c57",
   "metadata": {},
   "source": [
    "## Neural Network 3: 4 layers and 256 Nodes"
   ]
  },
  {
   "cell_type": "code",
   "execution_count": 30,
   "id": "ceb9c100",
   "metadata": {},
   "outputs": [
    {
     "name": "stdout",
     "output_type": "stream",
     "text": [
      "Epoch 1/10\n",
      "1182/1182 [==============================] - 2s 2ms/step - loss: 0.2814 - accuracy: 0.9126 - val_loss: 0.2043 - val_accuracy: 0.9395\n",
      "Epoch 2/10\n",
      "1182/1182 [==============================] - 2s 2ms/step - loss: 0.1170 - accuracy: 0.9642 - val_loss: 0.1201 - val_accuracy: 0.9633\n",
      "Epoch 3/10\n",
      "1182/1182 [==============================] - 2s 1ms/step - loss: 0.0886 - accuracy: 0.9734 - val_loss: 0.1262 - val_accuracy: 0.9574\n",
      "Epoch 4/10\n",
      "1182/1182 [==============================] - 2s 1ms/step - loss: 0.0709 - accuracy: 0.9777 - val_loss: 0.1064 - val_accuracy: 0.9681\n",
      "Epoch 5/10\n",
      "1182/1182 [==============================] - 2s 1ms/step - loss: 0.0553 - accuracy: 0.9822 - val_loss: 0.1083 - val_accuracy: 0.9681\n",
      "Epoch 6/10\n",
      "1182/1182 [==============================] - 2s 1ms/step - loss: 0.0469 - accuracy: 0.9853 - val_loss: 0.0982 - val_accuracy: 0.9717\n",
      "Epoch 7/10\n",
      "1182/1182 [==============================] - 2s 1ms/step - loss: 0.0407 - accuracy: 0.9869 - val_loss: 0.1150 - val_accuracy: 0.9688\n",
      "Epoch 8/10\n",
      "1182/1182 [==============================] - 2s 1ms/step - loss: 0.0328 - accuracy: 0.9892 - val_loss: 0.1297 - val_accuracy: 0.9631\n",
      "Epoch 9/10\n",
      "1182/1182 [==============================] - 2s 1ms/step - loss: 0.0326 - accuracy: 0.9901 - val_loss: 0.1160 - val_accuracy: 0.9669\n",
      "Epoch 10/10\n",
      "1182/1182 [==============================] - 2s 1ms/step - loss: 0.0283 - accuracy: 0.9916 - val_loss: 0.0996 - val_accuracy: 0.9717\n",
      "Training Time: 0:00:17.972243\n",
      "Training Accuracy: 0.9916137456893921\n",
      "Validation Accuracy: 0.971666693687439\n"
     ]
    }
   ],
   "source": [
    "start_time_3 = datetime.now()\n",
    "\n",
    "# Model architecture for third \n",
    "model_3 = Sequential()\n",
    "model_3.add(Dense(128, activation='relu', input_shape=(X_train.shape[1],))) \n",
    "model_3.add(Dense(128, activation='relu'))  \n",
    "model_3.add(Dense(128, activation='relu')) \n",
    "model_3.add(Dense(128, activation='relu'))  \n",
    "model_3.add(Dense(10, activation='softmax'))  \n",
    "\n",
    "model_3.compile(optimizer='adam', loss='categorical_crossentropy', metrics=['accuracy'])\n",
    "\n",
    "history_3 = model_3.fit(X_train, keras_Y, epochs=10, validation_data=(X_val, keras_Y_val))\n",
    "\n",
    "end_time_3 = datetime.now()\n",
    "\n",
    "training_time_3 = end_time_3 - start_time_3\n",
    "print(f\"Training Time: {training_time_3}\")\n",
    "\n",
    "train_accuracy_3 = history_3.history['accuracy'][-1]\n",
    "val_accuracy_3 = history_3.history['val_accuracy'][-1]\n",
    "print(f\"Training Accuracy: {train_accuracy_3}\")\n",
    "print(f\"Validation Accuracy: {val_accuracy_3}\")"
   ]
  },
  {
   "cell_type": "code",
   "execution_count": 31,
   "id": "25def7c8",
   "metadata": {},
   "outputs": [
    {
     "name": "stdout",
     "output_type": "stream",
     "text": [
      "875/875 [==============================] - 1s 621us/step\n"
     ]
    }
   ],
   "source": [
    "model_3_pred = model_3.predict(X_test)\n",
    "predicted_labels_3 = np.argmax(model_3_pred, axis=1)\n",
    "predicted_labels_3 = pd.Series(predicted_labels_3, name=\"Label\")\n",
    "\n",
    "submission_3 = pd.concat([pd.Series(range(1, 28001), name=\"ImageId\"), predicted_labels_3], axis=1)\n",
    "\n",
    "submission_3.to_csv('model3_Pred.csv', index=False)"
   ]
  },
  {
   "attachments": {
    "Screen%20Shot%202023-11-14%20at%203.31.15%20PM.png": {
     "image/png": "[encoded data removed]"
    }
   },
   "cell_type": "markdown",
   "id": "c0309b30",
   "metadata": {},
   "source": [
    "![Screen%20Shot%202023-11-14%20at%203.31.15%20PM.png](attachment:Screen%20Shot%202023-11-14%20at%203.31.15%20PM.png)"
   ]
  },
  {
   "cell_type": "markdown",
   "id": "c52626d8",
   "metadata": {},
   "source": [
    "## Neural Network 4: 4 layers and 256 Nodes"
   ]
  },
  {
   "cell_type": "code",
   "execution_count": 32,
   "id": "1dce97aa",
   "metadata": {},
   "outputs": [
    {
     "name": "stdout",
     "output_type": "stream",
     "text": [
      "Epoch 1/10\n",
      "1182/1182 [==============================] - 4s 3ms/step - loss: 0.2471 - accuracy: 0.9236 - val_loss: 0.1400 - val_accuracy: 0.9576\n",
      "Epoch 2/10\n",
      "1182/1182 [==============================] - 3s 3ms/step - loss: 0.1131 - accuracy: 0.9661 - val_loss: 0.1355 - val_accuracy: 0.9598\n",
      "Epoch 3/10\n",
      "1182/1182 [==============================] - 3s 3ms/step - loss: 0.0858 - accuracy: 0.9739 - val_loss: 0.1342 - val_accuracy: 0.9595\n",
      "Epoch 4/10\n",
      "1182/1182 [==============================] - 3s 3ms/step - loss: 0.0653 - accuracy: 0.9802 - val_loss: 0.1075 - val_accuracy: 0.9693\n",
      "Epoch 5/10\n",
      "1182/1182 [==============================] - 3s 3ms/step - loss: 0.0529 - accuracy: 0.9841 - val_loss: 0.0963 - val_accuracy: 0.9714\n",
      "Epoch 6/10\n",
      "1182/1182 [==============================] - 3s 3ms/step - loss: 0.0445 - accuracy: 0.9874 - val_loss: 0.1413 - val_accuracy: 0.9626\n",
      "Epoch 7/10\n",
      "1182/1182 [==============================] - 3s 3ms/step - loss: 0.0419 - accuracy: 0.9874 - val_loss: 0.1133 - val_accuracy: 0.9693\n",
      "Epoch 8/10\n",
      "1182/1182 [==============================] - 3s 3ms/step - loss: 0.0296 - accuracy: 0.9913 - val_loss: 0.1163 - val_accuracy: 0.9705\n",
      "Epoch 9/10\n",
      "1182/1182 [==============================] - 4s 3ms/step - loss: 0.0309 - accuracy: 0.9907 - val_loss: 0.1128 - val_accuracy: 0.9674\n",
      "Epoch 10/10\n",
      "1182/1182 [==============================] - 4s 3ms/step - loss: 0.0280 - accuracy: 0.9918 - val_loss: 0.1097 - val_accuracy: 0.9755\n",
      "Training Time: 0:00:34.506709\n",
      "Training Accuracy: 0.991772472858429\n",
      "Validation Accuracy: 0.9754762053489685\n"
     ]
    }
   ],
   "source": [
    "start_time_4 = datetime.now()\n",
    "\n",
    "# Model architecture for fourth model\n",
    "model_4 = Sequential()\n",
    "model_4.add(Dense(256, activation='relu', input_shape=(X_train.shape[1],)))\n",
    "model_4.add(Dense(256, activation='relu')) \n",
    "model_4.add(Dense(256, activation='relu'))  \n",
    "model_4.add(Dense(256, activation='relu'))  \n",
    "model_4.add(Dense(10, activation='softmax'))  \n",
    "\n",
    "model_4.compile(optimizer='adam', loss='categorical_crossentropy', metrics=['accuracy'])\n",
    "\n",
    "history_4 = model_4.fit(X_train, keras_Y, epochs=10, validation_data=(X_val, keras_Y_val))\n",
    "\n",
    "end_time_4 = datetime.now()\n",
    "\n",
    "training_time_4 = end_time_4 - start_time_4\n",
    "print(f\"Training Time: {training_time_4}\")\n",
    "\n",
    "train_accuracy_4 = history_4.history['accuracy'][-1]\n",
    "val_accuracy_4 = history_4.history['val_accuracy'][-1]\n",
    "print(f\"Training Accuracy: {train_accuracy_4}\")\n",
    "print(f\"Validation Accuracy: {val_accuracy_4}\")\n"
   ]
  },
  {
   "cell_type": "code",
   "execution_count": 33,
   "id": "1962ee34",
   "metadata": {},
   "outputs": [
    {
     "name": "stdout",
     "output_type": "stream",
     "text": [
      "875/875 [==============================] - 1s 930us/step\n"
     ]
    }
   ],
   "source": [
    "model_4_pred = model_4.predict(X_test)\n",
    "predicted_labels_4 = np.argmax(model_4_pred, axis=1)\n",
    "predicted_labels_4 = pd.Series(predicted_labels_4, name=\"Label\")\n",
    "\n",
    "submission_4 = pd.concat([pd.Series(range(1, 28001), name=\"ImageId\"), predicted_labels_4], axis=1)\n",
    "\n",
    "submission_4.to_csv('model4_Pred.csv', index=False)"
   ]
  },
  {
   "attachments": {
    "Screen%20Shot%202023-11-14%20at%203.35.24%20PM.png": {
     "image/png": "[encoded data removed]"
    }
   },
   "cell_type": "markdown",
   "id": "245f9d03",
   "metadata": {},
   "source": [
    "![Screen%20Shot%202023-11-14%20at%203.35.24%20PM.png](attachment:Screen%20Shot%202023-11-14%20at%203.35.24%20PM.png)"
   ]
  },
  {
   "cell_type": "markdown",
   "id": "b999600f",
   "metadata": {},
   "source": [
    "# Examining Results of the 2x2 benchmark experiment"
   ]
  },
  {
   "cell_type": "code",
   "execution_count": 37,
   "id": "1cb92cee",
   "metadata": {},
   "outputs": [
    {
     "name": "stdout",
     "output_type": "stream",
     "text": [
      "   Layers  Nodes per Layer Training Time (H:MM:SS:HH)  Training Accuracy  \\\n",
      "0       2              128             0:00:19.392189             0.9944   \n",
      "1       2              256             0:00:24.018875             0.9958   \n",
      "2       4              128             0:00:17.972243             0.9916   \n",
      "3       4              256             0:00:34.506709             0.9918   \n",
      "\n",
      "   Validation Accuracy  \n",
      "0               0.9686  \n",
      "1               0.9717  \n",
      "2               0.9717  \n",
      "3               0.9755  \n"
     ]
    }
   ],
   "source": [
    "# Results table\n",
    "data = {\n",
    "    \"Layers\": [2, 2, 4, 4],\n",
    "    \"Nodes per Layer\": [128, 256, 128, 256],\n",
    "    \"Training Time (H:MM:SS:HH)\": [\"0:00:19.392189\", \"0:00:24.018875\", \"0:00:17.972243\", \"0:00:34.506709\"],\n",
    "    \"Training Accuracy\": [0.9944, 0.9958, 0.9916, 0.9918],\n",
    "    \"Validation Accuracy\": [0.9686, 0.9717, 0.9717, 0.9755]\n",
    "}\n",
    "results_df = pd.DataFrame(data)\n",
    "print(results_df)"
   ]
  },
  {
   "cell_type": "markdown",
   "id": "08562e36",
   "metadata": {},
   "source": [
    "## Multi-class Confusion Matrix"
   ]
  },
  {
   "cell_type": "code",
   "execution_count": 38,
   "id": "f6ce624e",
   "metadata": {},
   "outputs": [
    {
     "name": "stdout",
     "output_type": "stream",
     "text": [
      "132/132 [==============================] - 0s 643us/step\n",
      "132/132 [==============================] - 0s 700us/step\n",
      "132/132 [==============================] - 0s 643us/step\n",
      "132/132 [==============================] - 0s 886us/step\n"
     ]
    }
   ],
   "source": [
    "y_val_pred_1 = np.argmax(model.predict(X_val), axis=1)\n",
    "y_val_pred_2 = np.argmax(model_2.predict(X_val), axis=1)\n",
    "y_val_pred_3 = np.argmax(model_3.predict(X_val), axis=1)\n",
    "y_val_pred_4 = np.argmax(model_4.predict(X_val), axis=1)\n",
    " \n",
    "y_val_true = np.argmax(keras_Y_val, axis=1)"
   ]
  },
  {
   "cell_type": "code",
   "execution_count": 41,
   "id": "bed88c86",
   "metadata": {
    "scrolled": false
   },
   "outputs": [
    {
     "data": {
      "image/png": "[encoded data removed]",
      "text/plain": [
       "<Figure size 1000x800 with 2 Axes>"
      ]
     },
     "metadata": {},
     "output_type": "display_data"
    },
    {
     "data": {
      "image/png": "[encoded data removed]",
      "text/plain": [
       "<Figure size 1000x800 with 2 Axes>"
      ]
     },
     "metadata": {},
     "output_type": "display_data"
    },
    {
     "data": {
      "image/png": "[encoded data removed]",
      "text/plain": [
       "<Figure size 1000x800 with 2 Axes>"
      ]
     },
     "metadata": {},
     "output_type": "display_data"
    },
    {
     "data": {
      "image/png": "[encoded data removed]",
      "text/plain": [
       "<Figure size 1000x800 with 2 Axes>"
      ]
     },
     "metadata": {},
     "output_type": "display_data"
    }
   ],
   "source": [
    "def plot_confusion_matrix(y_true, y_pred, title):\n",
    "    cm = confusion_matrix(y_true, y_pred)\n",
    "    plt.figure(figsize=(10, 8))\n",
    "    sns.heatmap(cm, annot=True, fmt='d', cmap='Blues', xticklabels=range(10), yticklabels=range(10))\n",
    "    plt.title(title)\n",
    "    plt.ylabel('Actual')\n",
    "    plt.xlabel('Predicted')\n",
    "    plt.show()\n",
    "\n",
    "# Plot confusion matrix \n",
    "plot_confusion_matrix(y_val_true, y_val_pred_1, 'Confusion Matrix for Model 1')\n",
    "plot_confusion_matrix(y_val_true, y_val_pred_2, 'Confusion Matrix for Model 2')\n",
    "plot_confusion_matrix(y_val_true, y_val_pred_3, 'Confusion Matrix for Model 3')\n",
    "plot_confusion_matrix(y_val_true, y_val_pred_4, 'Confusion Matrix for Model 4')"
   ]
  },
  {
   "cell_type": "markdown",
   "id": "0d1dab7a",
   "metadata": {},
   "source": [
    "# Further Neural Networks"
   ]
  },
  {
   "cell_type": "markdown",
   "id": "62abaeeb",
   "metadata": {},
   "source": [
    "### 4 Layers and 384 nodes"
   ]
  },
  {
   "cell_type": "code",
   "execution_count": 44,
   "id": "f155f304",
   "metadata": {},
   "outputs": [
    {
     "name": "stdout",
     "output_type": "stream",
     "text": [
      "Epoch 1/10\n",
      "1182/1182 [==============================] - 6s 4ms/step - loss: 0.2571 - accuracy: 0.9223 - val_loss: 0.1386 - val_accuracy: 0.9567\n",
      "Epoch 2/10\n",
      "1182/1182 [==============================] - 5s 4ms/step - loss: 0.1168 - accuracy: 0.9668 - val_loss: 0.1374 - val_accuracy: 0.9598\n",
      "Epoch 3/10\n",
      "1182/1182 [==============================] - 5s 4ms/step - loss: 0.0845 - accuracy: 0.9742 - val_loss: 0.1190 - val_accuracy: 0.9664\n",
      "Epoch 4/10\n",
      "1182/1182 [==============================] - 5s 4ms/step - loss: 0.0620 - accuracy: 0.9816 - val_loss: 0.1109 - val_accuracy: 0.9688\n",
      "Epoch 5/10\n",
      "1182/1182 [==============================] - 5s 4ms/step - loss: 0.0532 - accuracy: 0.9842 - val_loss: 0.1168 - val_accuracy: 0.9743\n",
      "Epoch 6/10\n",
      "1182/1182 [==============================] - 5s 4ms/step - loss: 0.0473 - accuracy: 0.9863 - val_loss: 0.1090 - val_accuracy: 0.9745\n",
      "Epoch 7/10\n",
      "1182/1182 [==============================] - 5s 4ms/step - loss: 0.0431 - accuracy: 0.9875 - val_loss: 0.1008 - val_accuracy: 0.9764\n",
      "Epoch 8/10\n",
      "1182/1182 [==============================] - 5s 4ms/step - loss: 0.0368 - accuracy: 0.9890 - val_loss: 0.1325 - val_accuracy: 0.9712\n",
      "Epoch 9/10\n",
      "1182/1182 [==============================] - 5s 5ms/step - loss: 0.0344 - accuracy: 0.9904 - val_loss: 0.1002 - val_accuracy: 0.9771\n",
      "Epoch 10/10\n",
      "1182/1182 [==============================] - 5s 4ms/step - loss: 0.0282 - accuracy: 0.9918 - val_loss: 0.1430 - val_accuracy: 0.9683\n",
      "Training Time: 0:00:52.836120\n",
      "Training Accuracy: 0.9918254017829895\n",
      "Validation Accuracy: 0.9683333039283752\n"
     ]
    }
   ],
   "source": [
    "start_time_new = datetime.now()\n",
    "\n",
    "# Model architecture\n",
    "model_new = Sequential()\n",
    "model_new.add(Dense(384, activation='relu', input_shape=(X_train.shape[1],)))  \n",
    "model_new.add(Dense(384, activation='relu'))  \n",
    "model_new.add(Dense(384, activation='relu'))  \n",
    "model_new.add(Dense(384, activation='relu'))  \n",
    "model_new.add(Dense(10, activation='softmax')) \n",
    "\n",
    "model_new.compile(optimizer='adam', loss='categorical_crossentropy', metrics=['accuracy'])\n",
    "\n",
    "history_new = model_new.fit(X_train, keras_Y, epochs=10, validation_data=(X_val, keras_Y_val))\n",
    "\n",
    "end_time_new = datetime.now()\n",
    "\n",
    "training_time_new = end_time_new - start_time_new\n",
    "print(f\"Training Time: {training_time_new}\")\n",
    "\n",
    "train_accuracy_new = history_new.history['accuracy'][-1]\n",
    "val_accuracy_new = history_new.history['val_accuracy'][-1]\n",
    "print(f\"Training Accuracy: {train_accuracy_new}\")\n",
    "print(f\"Validation Accuracy: {val_accuracy_new}\")"
   ]
  },
  {
   "cell_type": "code",
   "execution_count": 45,
   "id": "454af4c1",
   "metadata": {},
   "outputs": [
    {
     "name": "stdout",
     "output_type": "stream",
     "text": [
      "875/875 [==============================] - 1s 1ms/step\n"
     ]
    }
   ],
   "source": [
    "model_new_pred = model_new.predict(X_test)\n",
    "predicted_labels_new = np.argmax(model_new_pred, axis=1)\n",
    "predicted_labels_new = pd.Series(predicted_labels_new, name=\"Label\")\n",
    "\n",
    "submission_new = pd.concat([pd.Series(range(1, 28001), name=\"ImageId\"), predicted_labels_new], axis=1)\n",
    "\n",
    "submission_new.to_csv('model384node.csv', index=False)"
   ]
  },
  {
   "attachments": {
    "Screen%20Shot%202023-11-14%20at%206.46.20%20PM.png": {
     "image/png": "[encoded data removed]"
    }
   },
   "cell_type": "markdown",
   "id": "70866a08",
   "metadata": {},
   "source": [
    "![Screen%20Shot%202023-11-14%20at%206.46.20%20PM.png](attachment:Screen%20Shot%202023-11-14%20at%206.46.20%20PM.png)"
   ]
  },
  {
   "cell_type": "markdown",
   "id": "7011fcb3",
   "metadata": {},
   "source": [
    "### 6 layers and 256 nodes"
   ]
  },
  {
   "cell_type": "code",
   "execution_count": 46,
   "id": "7fcb70b2",
   "metadata": {},
   "outputs": [
    {
     "name": "stdout",
     "output_type": "stream",
     "text": [
      "Epoch 1/10\n",
      "1182/1182 [==============================] - 5s 4ms/step - loss: 0.2915 - accuracy: 0.9125 - val_loss: 0.1436 - val_accuracy: 0.9576\n",
      "Epoch 2/10\n",
      "1182/1182 [==============================] - 4s 4ms/step - loss: 0.1370 - accuracy: 0.9608 - val_loss: 0.1594 - val_accuracy: 0.9550\n",
      "Epoch 3/10\n",
      "1182/1182 [==============================] - 4s 3ms/step - loss: 0.1051 - accuracy: 0.9696 - val_loss: 0.1284 - val_accuracy: 0.9607\n",
      "Epoch 4/10\n",
      "1182/1182 [==============================] - 4s 4ms/step - loss: 0.0788 - accuracy: 0.9779 - val_loss: 0.1085 - val_accuracy: 0.9712\n",
      "Epoch 5/10\n",
      "1182/1182 [==============================] - 4s 3ms/step - loss: 0.0684 - accuracy: 0.9805 - val_loss: 0.1161 - val_accuracy: 0.9717\n",
      "Epoch 6/10\n",
      "1182/1182 [==============================] - 5s 4ms/step - loss: 0.0586 - accuracy: 0.9838 - val_loss: 0.1269 - val_accuracy: 0.9676\n",
      "Epoch 7/10\n",
      "1182/1182 [==============================] - 5s 4ms/step - loss: 0.0499 - accuracy: 0.9862 - val_loss: 0.1253 - val_accuracy: 0.9721\n",
      "Epoch 8/10\n",
      "1182/1182 [==============================] - 5s 4ms/step - loss: 0.0466 - accuracy: 0.9874 - val_loss: 0.1653 - val_accuracy: 0.9667\n",
      "Epoch 9/10\n",
      "1182/1182 [==============================] - 5s 4ms/step - loss: 0.0417 - accuracy: 0.9881 - val_loss: 0.1308 - val_accuracy: 0.9705\n",
      "Epoch 10/10\n",
      "1182/1182 [==============================] - 5s 4ms/step - loss: 0.0395 - accuracy: 0.9895 - val_loss: 0.1247 - val_accuracy: 0.9738\n",
      "Training Time: 0:00:45.824845\n",
      "Training Accuracy: 0.9894973635673523\n",
      "Validation Accuracy: 0.973809540271759\n"
     ]
    }
   ],
   "source": [
    "start_time_6_layer = datetime.now()\n",
    "\n",
    "# Model architecture\n",
    "model_6_layer = Sequential()\n",
    "model_6_layer.add(Dense(256, activation='relu', input_shape=(X_train.shape[1],)))\n",
    "model_6_layer.add(Dense(256, activation='relu')) \n",
    "model_6_layer.add(Dense(256, activation='relu')) \n",
    "model_6_layer.add(Dense(256, activation='relu')) \n",
    "model_6_layer.add(Dense(256, activation='relu')) \n",
    "model_6_layer.add(Dense(256, activation='relu'))  \n",
    "model_6_layer.add(Dense(10, activation='softmax'))  \n",
    "\n",
    "model_6_layer.compile(optimizer='adam', loss='categorical_crossentropy', metrics=['accuracy'])\n",
    "\n",
    "history_6_layer = model_6_layer.fit(X_train, keras_Y, epochs=10, validation_data=(X_val, keras_Y_val))\n",
    "\n",
    "end_time_6_layer = datetime.now()\n",
    "\n",
    "training_time_6_layer = end_time_6_layer - start_time_6_layer\n",
    "print(f\"Training Time: {training_time_6_layer}\")\n",
    "\n",
    "train_accuracy_6_layer = history_6_layer.history['accuracy'][-1]\n",
    "val_accuracy_6_layer = history_6_layer.history['val_accuracy'][-1]\n",
    "print(f\"Training Accuracy: {train_accuracy_6_layer}\")\n",
    "print(f\"Validation Accuracy: {val_accuracy_6_layer}\")"
   ]
  },
  {
   "cell_type": "code",
   "execution_count": 47,
   "id": "08735829",
   "metadata": {},
   "outputs": [
    {
     "name": "stdout",
     "output_type": "stream",
     "text": [
      "875/875 [==============================] - 1s 1ms/step\n"
     ]
    }
   ],
   "source": [
    "model_6_layer_pred = model_6_layer.predict(X_test)\n",
    "predicted_labels_6_layer = np.argmax(model_6_layer_pred, axis=1)\n",
    "predicted_labels_6_layer = pd.Series(predicted_labels_6_layer, name=\"Label\")\n",
    "\n",
    "submission_6_layer = pd.concat([pd.Series(range(1, 28001), name=\"ImageId\"), predicted_labels_6_layer], axis=1)\n",
    "\n",
    "submission_6_layer.to_csv('model6layer_Pred.csv', index=False)"
   ]
  },
  {
   "attachments": {
    "Screen%20Shot%202023-11-14%20at%206.51.07%20PM.png": {
     "image/png": "[encoded data removed]"
    }
   },
   "cell_type": "markdown",
   "id": "fe1a8cfa",
   "metadata": {},
   "source": [
    "![Screen%20Shot%202023-11-14%20at%206.51.07%20PM.png](attachment:Screen%20Shot%202023-11-14%20at%206.51.07%20PM.png)"
   ]
  },
  {
   "cell_type": "markdown",
   "id": "d016d369",
   "metadata": {},
   "source": [
    "## 8 layers and 256 nodes"
   ]
  },
  {
   "cell_type": "code",
   "execution_count": 48,
   "id": "332696ff",
   "metadata": {},
   "outputs": [
    {
     "name": "stdout",
     "output_type": "stream",
     "text": [
      "Epoch 1/10\n",
      "1182/1182 [==============================] - 6s 4ms/step - loss: 0.3282 - accuracy: 0.9009 - val_loss: 0.1662 - val_accuracy: 0.9524\n",
      "Epoch 2/10\n",
      "1182/1182 [==============================] - 5s 4ms/step - loss: 0.1531 - accuracy: 0.9589 - val_loss: 0.1373 - val_accuracy: 0.9645\n",
      "Epoch 3/10\n",
      "1182/1182 [==============================] - 5s 4ms/step - loss: 0.1219 - accuracy: 0.9685 - val_loss: 0.1615 - val_accuracy: 0.9536\n",
      "Epoch 4/10\n",
      "1182/1182 [==============================] - 5s 4ms/step - loss: 0.1020 - accuracy: 0.9743 - val_loss: 0.1218 - val_accuracy: 0.9717\n",
      "Epoch 5/10\n",
      "1182/1182 [==============================] - 5s 4ms/step - loss: 0.0826 - accuracy: 0.9785 - val_loss: 0.1315 - val_accuracy: 0.9688\n",
      "Epoch 6/10\n",
      "1182/1182 [==============================] - 5s 4ms/step - loss: 0.0759 - accuracy: 0.9808 - val_loss: 0.1315 - val_accuracy: 0.9667\n",
      "Epoch 7/10\n",
      "1182/1182 [==============================] - 5s 4ms/step - loss: 0.0652 - accuracy: 0.9836 - val_loss: 0.1064 - val_accuracy: 0.9752\n",
      "Epoch 8/10\n",
      "1182/1182 [==============================] - 5s 4ms/step - loss: 0.0568 - accuracy: 0.9862 - val_loss: 0.1341 - val_accuracy: 0.9724\n",
      "Epoch 9/10\n",
      "1182/1182 [==============================] - 5s 4ms/step - loss: 0.0563 - accuracy: 0.9870 - val_loss: 0.1183 - val_accuracy: 0.9702\n",
      "Epoch 10/10\n",
      "1182/1182 [==============================] - 5s 4ms/step - loss: 0.0496 - accuracy: 0.9872 - val_loss: 0.1403 - val_accuracy: 0.9726\n",
      "Training Time: 0:00:49.714023\n",
      "Training Accuracy: 0.9872486591339111\n",
      "Validation Accuracy: 0.9726190567016602\n"
     ]
    }
   ],
   "source": [
    "start_time_8_layer = datetime.now()\n",
    "\n",
    "# Model architecture\n",
    "model_8_layer = Sequential()\n",
    "model_8_layer.add(Dense(256, activation='relu', input_shape=(X_train.shape[1],)))  \n",
    "model_8_layer.add(Dense(256, activation='relu'))  \n",
    "model_8_layer.add(Dense(256, activation='relu'))  \n",
    "model_8_layer.add(Dense(256, activation='relu'))  \n",
    "model_8_layer.add(Dense(256, activation='relu')) \n",
    "model_8_layer.add(Dense(256, activation='relu'))  \n",
    "model_8_layer.add(Dense(256, activation='relu')) \n",
    "model_8_layer.add(Dense(256, activation='relu'))  \n",
    "model_8_layer.add(Dense(10, activation='softmax')) \n",
    "\n",
    "model_8_layer.compile(optimizer='adam', loss='categorical_crossentropy', metrics=['accuracy'])\n",
    "\n",
    "history_8_layer = model_8_layer.fit(X_train, keras_Y, epochs=10, validation_data=(X_val, keras_Y_val))\n",
    "\n",
    "end_time_8_layer = datetime.now()\n",
    "\n",
    "training_time_8_layer = end_time_8_layer - start_time_8_layer\n",
    "print(f\"Training Time: {training_time_8_layer}\")\n",
    "\n",
    "train_accuracy_8_layer = history_8_layer.history['accuracy'][-1]\n",
    "val_accuracy_8_layer = history_8_layer.history['val_accuracy'][-1]\n",
    "print(f\"Training Accuracy: {train_accuracy_8_layer}\")\n",
    "print(f\"Validation Accuracy: {val_accuracy_8_layer}\")"
   ]
  },
  {
   "cell_type": "code",
   "execution_count": 49,
   "id": "5d201be1",
   "metadata": {},
   "outputs": [
    {
     "name": "stdout",
     "output_type": "stream",
     "text": [
      "875/875 [==============================] - 1s 1ms/step\n"
     ]
    }
   ],
   "source": [
    "model_8_layer_pred = model_8_layer.predict(X_test)\n",
    "predicted_labels_8_layer = np.argmax(model_8_layer_pred, axis=1)\n",
    "predicted_labels_8_layer = pd.Series(predicted_labels_8_layer, name=\"Label\")\n",
    "\n",
    "submission_8_layer = pd.concat([pd.Series(range(1, 28001), name=\"ImageId\"), predicted_labels_8_layer], axis=1)\n",
    "\n",
    "submission_8_layer.to_csv('model8layer_Pred.csv', index=False)"
   ]
  },
  {
   "attachments": {
    "Screen%20Shot%202023-11-14%20at%207.04.43%20PM.png": {
     "image/png": "[encoded data removed]"
    }
   },
   "cell_type": "markdown",
   "id": "39830694",
   "metadata": {},
   "source": [
    "![Screen%20Shot%202023-11-14%20at%207.04.43%20PM.png](attachment:Screen%20Shot%202023-11-14%20at%207.04.43%20PM.png)"
   ]
  }
 ],
 "metadata": {
  "kernelspec": {
   "display_name": "Python (tf)",
   "language": "python",
   "name": "tf"
  },
  "language_info": {
   "codemirror_mode": {
    "name": "ipython",
    "version": 3
   },
   "file_extension": ".py",
   "mimetype": "text/x-python",
   "name": "python",
   "nbconvert_exporter": "python",
   "pygments_lexer": "ipython3",
   "version": "3.11.5"
  }
 },
 "nbformat": 4,
 "nbformat_minor": 5
}
